{
 "cells": [
  {
   "cell_type": "markdown",
   "id": "94298b94-aff1-459e-9fd4-2e91aa0db614",
   "metadata": {},
   "source": [
    "## > Простые классы\n",
    "Напишите класс `Triangle`, который будет иметь 3 поля: `a`, `b`, `c` (стороны треугольника) и `n_dots` = 3 (количество точек). Поле `n_dots` объявите на уровне класса, не в конструкторе — чтобы оно было доступно без создания объекта (т.е. работал вызов `Triangle.n_dots`). Добавьте в класс простой конструктор, принимающий на вход все три стороны и сохраняющий эти стороны в соответсвующие поля класса.\n",
    "\n",
    "Создайте объекты этого класса со следующими названиями: `tr_1`, `tr_2` и любыми значениями длин сторон."
   ]
  },
  {
   "cell_type": "code",
   "execution_count": 1,
   "id": "ca5557f8-75dd-459e-b222-6a2f16e900ca",
   "metadata": {},
   "outputs": [],
   "source": [
    "class Triangle:\n",
    "    a = 0\n",
    "    b = 0\n",
    "    c = 0\n",
    "    n_dots = 3\n",
    "    def __init__(self, a, b, c):\n",
    "        self.a = a\n",
    "        self.b = b\n",
    "        self.c = c"
   ]
  },
  {
   "cell_type": "code",
   "execution_count": 2,
   "id": "3c329852-8988-43c0-8aa5-c6bf04f56f39",
   "metadata": {},
   "outputs": [
    {
     "data": {
      "text/plain": [
       "3"
      ]
     },
     "execution_count": 2,
     "metadata": {},
     "output_type": "execute_result"
    }
   ],
   "source": [
    "tr_1 = Triangle(3, 4, 5)\n",
    "tr_1.n_dots"
   ]
  },
  {
   "cell_type": "markdown",
   "id": "e1627609-0c7c-4c04-83a2-9a7d0ddc0947",
   "metadata": {},
   "source": [
    "## > Усложняем треугольник\n",
    "Возьмите класс `Triangle` из предыдущего задания и добавьте метод `area()`, возвращающий площадь треугольника. Напомним, что при известных трех сторонах площадь треугольника можно подсчитать по формуле Герона: $\\sqrt{S= p(p−a)(p−b)(p−c)}$, где $p= \\frac{1}{2} (a+b+c)$ — полупериметр. Подумайте, как можно организовать код так, чтобы p считалась один раз.\n",
    "\n",
    "Затем поменяйте конструктор: он должен проверять, что выполнено неравенство треугольника - каждая сторона меньше  суммы двух других. Если это условие не выполнено, выбрасывайте `ValueError` с текстом *\"triangle inequality does not hold\"* (передайте эту строку в конструктор `ValueError`).\n",
    "\n",
    "Наконец, создайте два объекта данного класса с названиями `tr_1` и `tr_2` , в которых соблюдается неравенство треугольника. Также, сохраните в переменные `square_1` и `square_2` результаты вызовов методов `.area()` для объектов `tr_1` и `tr_2` соответственно."
   ]
  },
  {
   "cell_type": "code",
   "execution_count": 3,
   "id": "1e044aa7-5501-46ed-95b4-e341b0f299bb",
   "metadata": {},
   "outputs": [],
   "source": [
    "class Triangle:\n",
    "    n_dots = 3\n",
    "    \n",
    "    def __init__(self, a, b, c):\n",
    "        if not((a < b+c) and (b < a+c) and (c < a+b)):\n",
    "            raise ValueError(\"triangle inequality does not hold\")\n",
    "        \n",
    "        self.a = a\n",
    "        self.b = b\n",
    "        self.c = c\n",
    "            \n",
    "        self.p = 0.5 * (a + b + c)\n",
    "\n",
    "    def area(self):\n",
    "        S = (self.p * (self.p - self.a)*(self.p - self.b)*(self.p - self.c))**0.5\n",
    "        return S\n"
   ]
  },
  {
   "cell_type": "code",
   "execution_count": 4,
   "id": "7731d2b2-0082-4d65-8201-510cc959aae1",
   "metadata": {},
   "outputs": [
    {
     "name": "stdout",
     "output_type": "stream",
     "text": [
      "7.1545440106270926\n"
     ]
    }
   ],
   "source": [
    "tr_1 = Triangle(3, 5, 5)\n",
    "square_1 = tr_1.area()\n",
    "print(square_1)"
   ]
  },
  {
   "cell_type": "markdown",
   "id": "ebe9dbbe-f148-461f-a771-8b96c5573754",
   "metadata": {},
   "source": [
    "## > Простое наследование\n",
    "Создайте класс `Rectangle` (прямоугольник), который будет наследоваться от класса `Triangle`. Сделайте так, чтобы `area()`, конструктор и поле `n_dots` были верными. А именно:\n",
    "\n",
    "1. Конструктор должен принимать 2 стороны: `a`, `b`\n",
    "2. `area()` должен считать площадь как произведение смежных сторон: $S=ab$\n",
    "3. Неравенство треугольника не нужно проверять.\n",
    "4. `n_dots` должен быть объявлен на уровне класса и равняться 4."
   ]
  },
  {
   "cell_type": "code",
   "execution_count": 5,
   "id": "2d729622-bfd3-478d-8514-0a463d5b2133",
   "metadata": {},
   "outputs": [],
   "source": [
    "class Rectangle(Triangle):\n",
    "    n_dots = 4\n",
    "\n",
    "    def __init__(self, a, b):\n",
    "        self.a = a\n",
    "        self.b = b\n",
    "\n",
    "    def area(self):\n",
    "        S = self.a * self.b\n",
    "        return S"
   ]
  },
  {
   "cell_type": "markdown",
   "id": "66777afd-fa75-4a37-9b30-23da2c347d6a",
   "metadata": {},
   "source": [
    "## > Наследование: абстрактный класс (1/4)\n",
    "Вы, наверно, заметили, что при наследовании в прошлом задании мы переписали почти всю логику. Это плохо: при наследовании нужно расширять класс, а не переписывать его.\n",
    "\n",
    "Но все же хочется использовать наследование, ведь треугольники и прямоугольники имеют общие свойства: \n",
    "\n",
    "1. Оба характеризуются количеством точек `n_dots`.\n",
    "2. Оба имеют метод `area()`.\n",
    "3. Оба имеют проверки на валидность данных. В случае прямоугольника это было равенство противоположных сторон, которое мы пропустили благодаря трюку: вместо принятия четырех сторон `a`, `b`, `c`, `d` на вход мы принимали две и далее держали в уме $a=c, b=d$. В случае треугольника это было неравенство треугольника.\n",
    "Тут нам поможет создание некой \"базовой фигуры\". Это будет сборник общих свойств, который сам по себе не будет представлять никакую фигуру, но послужит хорошим плацдармом для следующих классов.\n",
    "\n",
    "Напишите класс `BaseFigure`, который имеет поле класса (т.е. на уровне класса) `n_dots = None`, метод `area()` \"без реализации\", метод `validate()` \"без реализации\". Сделайте так, чтобы методы \"без реализации\" выбрасывали исключение `NotImplementedError` при их вызове и ничего другого не делали. Создайте также конструктор класса, который не принимает дополнительных аргументов и в реализации только лишь вызывает `self.validate()`."
   ]
  },
  {
   "cell_type": "code",
   "execution_count": 6,
   "id": "081bacb2-ab25-4f31-90d2-a67e8ec700b1",
   "metadata": {},
   "outputs": [],
   "source": [
    "class BaseFigure:\n",
    "    n_dots = None\n",
    "\n",
    "    def __init__(self):\n",
    "        self.validate()\n",
    "    \n",
    "    def area(self):\n",
    "        raise NotImplementedError()\n",
    "\n",
    "    def validate(self):\n",
    "        raise NotImplementedError()"
   ]
  },
  {
   "cell_type": "markdown",
   "id": "195c7991-0909-4e8a-9087-34fa9469ee57",
   "metadata": {},
   "source": [
    "## > Наследование: абстрактный класс (2/4)\n",
    "Перепишите классы `Triangle`, `Rectangle` так, чтобы они наследовались от `BaseFigure`. Затем уберите реализацию всех методов и конструкторов в классах-потомках.\n",
    "\n",
    "Есть ли у `Triangle`, `Rectangle` методы `area`, `validate`? Если есть, то что они возвращают при вызове?"
   ]
  },
  {
   "cell_type": "code",
   "execution_count": 7,
   "id": "3bd1f8b3-9790-4963-aa41-89ff0d262672",
   "metadata": {},
   "outputs": [],
   "source": [
    "class Triangle(BaseFigure):\n",
    "    n_dots = 3\n",
    "\n",
    "\n",
    "class Rectangle(BaseFigure):\n",
    "    n_dots = 4"
   ]
  },
  {
   "cell_type": "code",
   "execution_count": 8,
   "id": "a15b7de0-d6dc-457f-9cd5-0cced6b99d59",
   "metadata": {},
   "outputs": [
    {
     "ename": "NotImplementedError",
     "evalue": "",
     "output_type": "error",
     "traceback": [
      "\u001b[1;31m---------------------------------------------------------------------------\u001b[0m",
      "\u001b[1;31mNotImplementedError\u001b[0m                       Traceback (most recent call last)",
      "Cell \u001b[1;32mIn[8], line 1\u001b[0m\n\u001b[1;32m----> 1\u001b[0m tr_1 \u001b[38;5;241m=\u001b[39m Triangle()\n\u001b[0;32m      2\u001b[0m tr_1\u001b[38;5;241m.\u001b[39marea()\n",
      "Cell \u001b[1;32mIn[6], line 5\u001b[0m, in \u001b[0;36mBaseFigure.__init__\u001b[1;34m(self)\u001b[0m\n\u001b[0;32m      4\u001b[0m \u001b[38;5;28;01mdef\u001b[39;00m \u001b[38;5;21m__init__\u001b[39m(\u001b[38;5;28mself\u001b[39m):\n\u001b[1;32m----> 5\u001b[0m     \u001b[38;5;28mself\u001b[39m\u001b[38;5;241m.\u001b[39mvalidate()\n",
      "Cell \u001b[1;32mIn[6], line 11\u001b[0m, in \u001b[0;36mBaseFigure.validate\u001b[1;34m(self)\u001b[0m\n\u001b[0;32m     10\u001b[0m \u001b[38;5;28;01mdef\u001b[39;00m \u001b[38;5;21mvalidate\u001b[39m(\u001b[38;5;28mself\u001b[39m):\n\u001b[1;32m---> 11\u001b[0m     \u001b[38;5;28;01mraise\u001b[39;00m \u001b[38;5;167;01mNotImplementedError\u001b[39;00m()\n",
      "\u001b[1;31mNotImplementedError\u001b[0m: "
     ]
    }
   ],
   "source": [
    "tr_1 = Triangle()\n",
    "tr_1.area()"
   ]
  },
  {
   "cell_type": "markdown",
   "id": "9071030b-18b0-475b-b75f-1409e23b8286",
   "metadata": {},
   "source": [
    "## > Наследование: абстрактный класс (3/4)\n",
    "Возьмите классы `Triangle` и `Rectangle` из прошлого задания.\n",
    "\n",
    "Переопределите метод area в каждом случае.\n",
    "Переопределите конструктор в каждом случае (число аргументов тоже меняется). Не забудьте в конструкторе дочернего класса вызвать конструктор родительского класса!\n",
    "Переопределите метод `validate` в каждом случае. Метод `validate` должен принимать только аргумент `self` и использовать созданные в конструкторе переменные. Для этого вы можете сначала сохранять в конструкторе входные данные в `self.переменная`, а затем вызывать конструктор суперкласса. Для `Triangle` данный метод должен проверять неравенство треугольника и выбрасывать ошибку `ValueError(\"triangle inequality does not hold\")` либо возвращать значения сторон. Для `Rectangle` данный метод должен возвращать значения сторон.\n",
    "В итоге вы получите два класса, которые построены по схожему шаблону. Этот общий шаблон был задан в классе `BaseFigure`. Создайте несколько объектов этих классов и попробуйте вызвать у них `.area()`, `.validate()`. Если вы пользуетесь IDE, то увидите интерактивные подсказки: она скажет, что такие методы есть и что эти методы перегружают (overload) методы из родительского класса. При этом вызов методов будет работать коррректно."
   ]
  },
  {
   "cell_type": "code",
   "execution_count": 9,
   "id": "a492442b-58db-48a4-96ef-d37952f7bd40",
   "metadata": {},
   "outputs": [],
   "source": [
    "class Triangle(BaseFigure):\n",
    "    n_dots = 3\n",
    "\n",
    "    def __init__(self, a, b, c):\n",
    "        self.a = a\n",
    "        self.b = b\n",
    "        self.c = c\n",
    "        super().__init__()\n",
    "    \n",
    "    def area(self):\n",
    "        self.p = 0.5 * (self.a + self.b + self.c)\n",
    "        S = (self.p * (self.p - self.a)*(self.p - self.b)*(self.p - self.c))**0.5\n",
    "        return S\n",
    "\n",
    "    def validate(self):\n",
    "        if not((self.a < self.b+self.c) and (self.b < self.a+self.c) and (self.c < self.a+self.b)):\n",
    "            raise ValueError(\"triangle inequality does not hold\")\n",
    "        return self.a, self.b, self.c\n",
    "\n",
    "class Rectangle(BaseFigure):\n",
    "    n_dots = 4\n",
    "\n",
    "    def __init__(self, a, b):\n",
    "        self.a = a\n",
    "        self.b = b\n",
    "        super().__init__()\n",
    "    \n",
    "    def area(self):\n",
    "        S = self.a * self.b\n",
    "        return S\n",
    "\n",
    "    def validate(self):\n",
    "        return self.a, self.b\n"
   ]
  },
  {
   "cell_type": "code",
   "execution_count": 10,
   "id": "9bb9dcb1-de6f-43f1-bcac-ad1891c9f0c7",
   "metadata": {},
   "outputs": [
    {
     "name": "stdout",
     "output_type": "stream",
     "text": [
      "(3, 4, 5)\n",
      "(3, 4)\n"
     ]
    }
   ],
   "source": [
    "tr_1 = Triangle(3,4,5)\n",
    "print(tr_1.validate())\n",
    "rec_1 = Rectangle(3,4)\n",
    "print(rec_1.validate())"
   ]
  },
  {
   "cell_type": "markdown",
   "id": "73c9fb3f-70fd-4570-b247-104bddfbc054",
   "metadata": {},
   "source": [
    "## > Наследование: абстрактный класс (4/4)\n",
    "Попробуем собрать совершенно новый класс, используя `BaseFigure` в качестве шаблона.\n",
    "\n",
    "Напишите класс `Circle`, в котором в качестве `n_dots` будет `float('inf')`, area будет считаться как `3.14 * r^2`, а конструктор будет принимать только один аргумент - `r`. Метод `validate` не должен принимать никаких аргументов и не должен осуществлять никаких проверок."
   ]
  },
  {
   "cell_type": "code",
   "execution_count": 11,
   "id": "b3737463-02f5-489f-9d78-fc38990c2f7b",
   "metadata": {},
   "outputs": [],
   "source": [
    "class Circle(BaseFigure):\n",
    "    n_dots = float('inf')\n",
    "\n",
    "    def __init__(self, r):\n",
    "        self.r = r\n",
    "        super().__init__()\n",
    "\n",
    "    def area(self):\n",
    "        S = 3.14 * (self.r ** 2)\n",
    "        return S\n",
    "\n",
    "    def validate(self):\n",
    "        pass"
   ]
  },
  {
   "cell_type": "markdown",
   "id": "cdec6527-2a27-4188-a0cb-6cd7a87702a4",
   "metadata": {},
   "source": [
    "## > Магические методы: вектор (1/4)\n",
    "Напишите класс `Vector`, который на вход будет принимать список координат $(x1,…,xn)$). Положите все координаты вектора в список `self.coords`\n",
    "\n",
    "Добейтесь того, чтобы объекты класса `Vector` можно было складывать через оператор `+` и получать на выходе тоже объект этого же класса."
   ]
  },
  {
   "cell_type": "code",
   "execution_count": 12,
   "id": "bdec4907-afda-44a7-acd5-139b9e7a38d8",
   "metadata": {},
   "outputs": [],
   "source": [
    "class Vector:\n",
    "\n",
    "    def __init__(self, coords):\n",
    "        self.coords = coords\n",
    "\n",
    "    def __add__(self, other):\n",
    "        if(len(self.coords) != len(other.coords)):\n",
    "            raise ValueError(f\"left and right lengths differ: {len(self.coords)} != {len(other.coords)}\")\n",
    "\n",
    "        new_cd = [self.coords[i] + other.coords[i] for i in range(len(self.coords))]\n",
    "        return Vector(new_cd)\n"
   ]
  },
  {
   "cell_type": "code",
   "execution_count": 13,
   "id": "f57d1682-4a85-4fad-b2b5-d8f5c8f7b989",
   "metadata": {},
   "outputs": [
    {
     "data": {
      "text/plain": [
       "[3, 5, 7]"
      ]
     },
     "execution_count": 13,
     "metadata": {},
     "output_type": "execute_result"
    }
   ],
   "source": [
    "res = Vector([1, 2, 3]) + Vector([2, 3, 4])\n",
    "res.coords"
   ]
  },
  {
   "cell_type": "code",
   "execution_count": 14,
   "id": "7f759d8f-e796-4475-9a2b-a7d4b6c7d0ca",
   "metadata": {},
   "outputs": [
    {
     "ename": "ValueError",
     "evalue": "left and right lengths differ: 2 != 3",
     "output_type": "error",
     "traceback": [
      "\u001b[1;31m---------------------------------------------------------------------------\u001b[0m",
      "\u001b[1;31mValueError\u001b[0m                                Traceback (most recent call last)",
      "Cell \u001b[1;32mIn[14], line 1\u001b[0m\n\u001b[1;32m----> 1\u001b[0m res \u001b[38;5;241m=\u001b[39m Vector([\u001b[38;5;241m1\u001b[39m, \u001b[38;5;241m2\u001b[39m]) \u001b[38;5;241m+\u001b[39m Vector([\u001b[38;5;241m1\u001b[39m, \u001b[38;5;241m2\u001b[39m, \u001b[38;5;241m3\u001b[39m]) \n\u001b[0;32m      2\u001b[0m res\u001b[38;5;241m.\u001b[39mcoords\n",
      "Cell \u001b[1;32mIn[12], line 8\u001b[0m, in \u001b[0;36mVector.__add__\u001b[1;34m(self, other)\u001b[0m\n\u001b[0;32m      6\u001b[0m \u001b[38;5;28;01mdef\u001b[39;00m \u001b[38;5;21m__add__\u001b[39m(\u001b[38;5;28mself\u001b[39m, other):\n\u001b[0;32m      7\u001b[0m     \u001b[38;5;28;01mif\u001b[39;00m(\u001b[38;5;28mlen\u001b[39m(\u001b[38;5;28mself\u001b[39m\u001b[38;5;241m.\u001b[39mcoords) \u001b[38;5;241m!=\u001b[39m \u001b[38;5;28mlen\u001b[39m(other\u001b[38;5;241m.\u001b[39mcoords)):\n\u001b[1;32m----> 8\u001b[0m         \u001b[38;5;28;01mraise\u001b[39;00m \u001b[38;5;167;01mValueError\u001b[39;00m(\u001b[38;5;124mf\u001b[39m\u001b[38;5;124m\"\u001b[39m\u001b[38;5;124mleft and right lengths differ: \u001b[39m\u001b[38;5;132;01m{\u001b[39;00m\u001b[38;5;28mlen\u001b[39m(\u001b[38;5;28mself\u001b[39m\u001b[38;5;241m.\u001b[39mcoords)\u001b[38;5;132;01m}\u001b[39;00m\u001b[38;5;124m != \u001b[39m\u001b[38;5;132;01m{\u001b[39;00m\u001b[38;5;28mlen\u001b[39m(other\u001b[38;5;241m.\u001b[39mcoords)\u001b[38;5;132;01m}\u001b[39;00m\u001b[38;5;124m\"\u001b[39m)\n\u001b[0;32m     10\u001b[0m     new_cd \u001b[38;5;241m=\u001b[39m [\u001b[38;5;28mself\u001b[39m\u001b[38;5;241m.\u001b[39mcoords[i] \u001b[38;5;241m+\u001b[39m other\u001b[38;5;241m.\u001b[39mcoords[i] \u001b[38;5;28;01mfor\u001b[39;00m i \u001b[38;5;129;01min\u001b[39;00m \u001b[38;5;28mrange\u001b[39m(\u001b[38;5;28mlen\u001b[39m(\u001b[38;5;28mself\u001b[39m\u001b[38;5;241m.\u001b[39mcoords))]\n\u001b[0;32m     11\u001b[0m     \u001b[38;5;28;01mreturn\u001b[39;00m Vector(new_cd)\n",
      "\u001b[1;31mValueError\u001b[0m: left and right lengths differ: 2 != 3"
     ]
    }
   ],
   "source": [
    "res = Vector([1, 2]) + Vector([1, 2, 3]) \n",
    "res.coords"
   ]
  },
  {
   "cell_type": "markdown",
   "id": "79ecfc68-61eb-4d20-9c0a-98d9694783b3",
   "metadata": {},
   "source": [
    "## > Магические методы: вектор (2/4)\n",
    "Добавим могущества нашему вектору.\n",
    "\n",
    "Добавьте методу красивый вывод при передаче его в `print(...)`. Пример:\n",
    "```python\n",
    "print(Vector([1, 2, 3]))\n",
    "# Напечатает: \"[1, 2, 3]\" без кавычек\n",
    "\n",
    "vec = Vector([1])\n",
    "print(vec)\n",
    "# Напечатает \"[1]\" без кавычек\n",
    "```"
   ]
  },
  {
   "cell_type": "code",
   "execution_count": 15,
   "id": "57e507c9-35c1-4cd6-a7f3-37116a9524d1",
   "metadata": {},
   "outputs": [],
   "source": [
    "class Vector:\n",
    "\n",
    "    def __init__(self, coords):\n",
    "        self.coords = coords\n",
    "\n",
    "    def __add__(self, other):\n",
    "        if(len(self.coords) != len(other.coords)):\n",
    "            raise ValueError(f\"left and right lengths differ: {len(self.coords)} != {len(other.coords)}\")\n",
    "\n",
    "        new_cd = [self.coords[i] + other.coords[i] for i in range(len(self.coords))]\n",
    "        return Vector(new_cd)\n",
    "\n",
    "    def __str__(self):\n",
    "        return f'{self.coords}'\n"
   ]
  },
  {
   "cell_type": "code",
   "execution_count": 16,
   "id": "f7d7fcb5-d878-42d6-bb06-d697e864106c",
   "metadata": {},
   "outputs": [
    {
     "name": "stdout",
     "output_type": "stream",
     "text": [
      "[1, 2, 3]\n",
      "[1]\n"
     ]
    }
   ],
   "source": [
    "print(Vector([1, 2, 3]))\n",
    "# Напечатает: \"[1, 2, 3]\" без кавычек\n",
    "\n",
    "vec = Vector([1])\n",
    "print(vec)\n",
    "# Напечатает \"[1]\" без кавычек"
   ]
  },
  {
   "cell_type": "markdown",
   "id": "235f1c45-7afc-4b20-98f1-f1a0a71a1476",
   "metadata": {},
   "source": [
    "## > Магические методы: вектор (3/4)\n",
    "Продолжаем улучшать вектор. Добавьте в класс возможность умножать вектор на вектор и вектор на число. Не забудьте сохранять координаты вектора в `self.coords`.\n",
    "```python\n",
    "Vector([1, 2, 3]) * Vector([2, 5, -2])  # даст 6\n",
    "# 1 * 2 + 2 * 5 + 3 * (-2) = 6\n",
    "\n",
    "Vector([1, 2]) * Vector([2, 3, 4])\n",
    "# ValueError: left and right lengths differ: 2 != 3\n",
    "\n",
    "Vector([2, 3, 5, 8]) * 5  # даст Vector([10, 15, 25, 40])\n",
    "```"
   ]
  },
  {
   "cell_type": "code",
   "execution_count": 17,
   "id": "ded9b698-6c1c-4d61-8a23-8159eee764ba",
   "metadata": {},
   "outputs": [],
   "source": [
    "class Vector:\n",
    "\n",
    "    def __init__(self, coords):\n",
    "        self.coords = coords\n",
    "\n",
    "    def __add__(self, other):\n",
    "        if(len(self.coords) != len(other.coords)):\n",
    "            raise ValueError(f\"left and right lengths differ: {len(self.coords)} != {len(other.coords)}\")\n",
    "\n",
    "        new_cd = [self.coords[i] + other.coords[i] for i in range(len(self.coords))]\n",
    "        return Vector(new_cd)\n",
    "\n",
    "    def __str__(self):\n",
    "        return f'{self.coords}'\n",
    "\n",
    "    def __mul__(self, other):\n",
    "        if(isinstance(other, int)):\n",
    "            multiply = [self.coords[i] * other for i in range(len(self.coords))]\n",
    "            return Vector(multiply)\n",
    "        elif (isinstance(other, Vector)):\n",
    "            if(len(self.coords) != len(other.coords)):\n",
    "                raise ValueError(f\"left and right lengths differ: {len(self.coords)} != {len(other.coords)}\")\n",
    "            multiply = sum([self.coords[i] * other.coords[i] for i in range(len(self.coords))])\n",
    "            return multiply"
   ]
  },
  {
   "cell_type": "code",
   "execution_count": 18,
   "id": "82cafbe5-b090-4a81-b96d-5b205e9d0f29",
   "metadata": {},
   "outputs": [
    {
     "data": {
      "text/plain": [
       "6"
      ]
     },
     "execution_count": 18,
     "metadata": {},
     "output_type": "execute_result"
    }
   ],
   "source": [
    "Vector([1, 2, 3]) * Vector([2, 5, -2]) "
   ]
  },
  {
   "cell_type": "code",
   "execution_count": 19,
   "id": "9992f194-6eb3-4994-a88d-6f1b27569a78",
   "metadata": {},
   "outputs": [
    {
     "ename": "ValueError",
     "evalue": "left and right lengths differ: 2 != 3",
     "output_type": "error",
     "traceback": [
      "\u001b[1;31m---------------------------------------------------------------------------\u001b[0m",
      "\u001b[1;31mValueError\u001b[0m                                Traceback (most recent call last)",
      "Cell \u001b[1;32mIn[19], line 1\u001b[0m\n\u001b[1;32m----> 1\u001b[0m Vector([\u001b[38;5;241m1\u001b[39m, \u001b[38;5;241m2\u001b[39m]) \u001b[38;5;241m*\u001b[39m Vector([\u001b[38;5;241m2\u001b[39m, \u001b[38;5;241m3\u001b[39m, \u001b[38;5;241m4\u001b[39m])\n",
      "Cell \u001b[1;32mIn[17], line 22\u001b[0m, in \u001b[0;36mVector.__mul__\u001b[1;34m(self, other)\u001b[0m\n\u001b[0;32m     20\u001b[0m \u001b[38;5;28;01melif\u001b[39;00m (\u001b[38;5;28misinstance\u001b[39m(other, Vector)):\n\u001b[0;32m     21\u001b[0m     \u001b[38;5;28;01mif\u001b[39;00m(\u001b[38;5;28mlen\u001b[39m(\u001b[38;5;28mself\u001b[39m\u001b[38;5;241m.\u001b[39mcoords) \u001b[38;5;241m!=\u001b[39m \u001b[38;5;28mlen\u001b[39m(other\u001b[38;5;241m.\u001b[39mcoords)):\n\u001b[1;32m---> 22\u001b[0m         \u001b[38;5;28;01mraise\u001b[39;00m \u001b[38;5;167;01mValueError\u001b[39;00m(\u001b[38;5;124mf\u001b[39m\u001b[38;5;124m\"\u001b[39m\u001b[38;5;124mleft and right lengths differ: \u001b[39m\u001b[38;5;132;01m{\u001b[39;00m\u001b[38;5;28mlen\u001b[39m(\u001b[38;5;28mself\u001b[39m\u001b[38;5;241m.\u001b[39mcoords)\u001b[38;5;132;01m}\u001b[39;00m\u001b[38;5;124m != \u001b[39m\u001b[38;5;132;01m{\u001b[39;00m\u001b[38;5;28mlen\u001b[39m(other\u001b[38;5;241m.\u001b[39mcoords)\u001b[38;5;132;01m}\u001b[39;00m\u001b[38;5;124m\"\u001b[39m)\n\u001b[0;32m     23\u001b[0m     multiply \u001b[38;5;241m=\u001b[39m \u001b[38;5;28msum\u001b[39m([\u001b[38;5;28mself\u001b[39m\u001b[38;5;241m.\u001b[39mcoords[i] \u001b[38;5;241m*\u001b[39m other\u001b[38;5;241m.\u001b[39mcoords[i] \u001b[38;5;28;01mfor\u001b[39;00m i \u001b[38;5;129;01min\u001b[39;00m \u001b[38;5;28mrange\u001b[39m(\u001b[38;5;28mlen\u001b[39m(\u001b[38;5;28mself\u001b[39m\u001b[38;5;241m.\u001b[39mcoords))])\n\u001b[0;32m     24\u001b[0m     \u001b[38;5;28;01mreturn\u001b[39;00m multiply\n",
      "\u001b[1;31mValueError\u001b[0m: left and right lengths differ: 2 != 3"
     ]
    }
   ],
   "source": [
    "Vector([1, 2]) * Vector([2, 3, 4])"
   ]
  },
  {
   "cell_type": "code",
   "execution_count": 20,
   "id": "a68f532e-8060-47ad-af64-288d5f0fd7ff",
   "metadata": {},
   "outputs": [
    {
     "name": "stdout",
     "output_type": "stream",
     "text": [
      "[10, 15, 25, 40]\n"
     ]
    }
   ],
   "source": [
    "print(Vector([2, 3, 5, 8]) * 5)  # даст Vector([10, 15, 25, 40])"
   ]
  },
  {
   "cell_type": "markdown",
   "id": "b4fad31c-e500-4251-a4b9-37eb7a880f2e",
   "metadata": {},
   "source": [
    "## > Магические методы: вектор (4/4)\n",
    "Последние штрихи для нашего вектора.\n",
    "\n",
    "Добавьте в класс возможности сравнивать два вектора между собой и считать `abs` (это длина вектора, в Евклидовой метрике).\n",
    "\n",
    "```python\n",
    "abs(Vector([-12, 5]))  # Должно быть 13\n",
    "\n",
    "Vector([1, 3, 5]) == Vector([1])  # False\n",
    "Vector([1, 3, 5]) == Vector([-1, 3, 5])  # False\n",
    "Vector([1, 3, 5]) == Vector([1, 3, 5])  # True\n",
    "```\n",
    "\n",
    "По итогу мы получим вектора, которые можно складывать, умножать, печатать, считать длину и сравнивать на равенство друг с другом."
   ]
  },
  {
   "cell_type": "code",
   "execution_count": 21,
   "id": "cc2e7d05-5f6f-4763-9ca0-143a541a302a",
   "metadata": {},
   "outputs": [],
   "source": [
    "class Vector:\n",
    "\n",
    "    def __init__(self, coords):\n",
    "        self.coords = coords\n",
    "\n",
    "    def __add__(self, other):\n",
    "        if(len(self.coords) != len(other.coords)):\n",
    "            raise ValueError(f\"left and right lengths differ: {len(self.coords)} != {len(other.coords)}\")\n",
    "\n",
    "        new_cd = [self.coords[i] + other.coords[i] for i in range(len(self.coords))]\n",
    "        return Vector(new_cd)\n",
    "\n",
    "    def __str__(self):\n",
    "        return f'{self.coords}'\n",
    "\n",
    "    def __mul__(self, other):\n",
    "        if(isinstance(other, int)):\n",
    "            multiply = [self.coords[i] * other for i in range(len(self.coords))]\n",
    "            return Vector(multiply)\n",
    "        elif (isinstance(other, Vector)):\n",
    "            if(len(self.coords) != len(other.coords)):\n",
    "                raise ValueError(f\"left and right lengths differ: {len(self.coords)} != {len(other.coords)}\")\n",
    "            multiply = sum([self.coords[i] * other.coords[i] for i in range(len(self.coords))])\n",
    "            return multiply\n",
    "\n",
    "    def __abs__(self):\n",
    "        abs = sum([self.coords[i] ** 2 for i in range(len(self.coords))]) ** 0.5\n",
    "        return abs\n",
    "\n",
    "    def __eq__(self, other):\n",
    "        return self.coords == other.coords\n"
   ]
  },
  {
   "cell_type": "code",
   "execution_count": 22,
   "id": "3ed2d41a-4aaa-41e1-95af-568a81ece6f6",
   "metadata": {},
   "outputs": [
    {
     "name": "stdout",
     "output_type": "stream",
     "text": [
      "13.0\n",
      "False\n",
      "False\n",
      "True\n"
     ]
    }
   ],
   "source": [
    "print(abs(Vector([-12, 5])))  # Должно быть 13\n",
    "\n",
    "print(Vector([1, 3, 5]) == Vector([1]))  # False\n",
    "print(Vector([1, 3, 5]) == Vector([-1, 3, 5]))  # False\n",
    "print(Vector([1, 3, 5]) == Vector([1, 3, 5]))  # True"
   ]
  },
  {
   "cell_type": "markdown",
   "id": "2c21db2b-236b-4d2f-8fd1-5198135ab1f6",
   "metadata": {},
   "source": [
    "## > Множественное наследование (1/3)\n",
    "Хорошая статья про проблемы множественного наследования\n",
    "Попробуем сделать множественное наследование аккуратно и так, как его обычно делают в популярных библиотеках.\n",
    "\n",
    "Обычно множественное наследование используют в т.н. *Mixins*. Mixin (рус. миксины) - это класс, не имеющий полей и имеющий один или более не абстрактных методов (т.е. методов с реализацией). Обычно миксины используют для того, чтобы модульно раздавать различные функциональности различным объектам.\n",
    "\n",
    "В лекции был пример с `Connectable` и `PostgresqlConnection`. `Connectable` как раз был одной из `Mixin`.\n",
    "\n",
    "Вас перевели из тех.директора сложного проекта в бекенд-разработчика. Встала задача разработать класс, которому на вход будет приходить разобранный запрос от пользователя. Запрос имеет вид:\n",
    "\n",
    "```python\n",
    "# будет приходить запрос в виде словаря\n",
    "request = {\n",
    "  \"cookies\": {key_1: value_1, key_2: value_2, ...},\n",
    "  \"body\": \"a long time ago, in a Galaxy far, far away\",\n",
    "  \"headers\": {\"content-type\": \"application/json\", \"Accept\": \"application/json\"}\n",
    "}\n",
    "\n",
    "# и этот словарь будет передаваться в конструктор класса\n",
    "handler = Handler(request)\n",
    "```\n",
    "\n",
    "Разным классам в приложении потребуется разная функциональность: кому-то потребуется проверять, есть ли в `headers` ключ `\"Accept\"`, кому-то потребуется читать `body`, а кому-то понадобится проверять пустоту `cookies`. Будут и классы, которым потребуется несколько возможностей сразу.\n",
    "\n",
    "Напишите классы `ParsesCookies`, `ParsesBody`, `ParsesHeaders` по условиям:\n",
    "\n",
    "1. Класс `ParsesCookies` имеет метод `cookies()`, возвращающий все по ключу `cookies` из словаря `self.request`.\n",
    "2. Класс `ParsesCookies` имеет метод `is_authed()`, который будет проверять, что в словаре `cookies` будет ключ `auth_key` (ни в коем случае не используйте такую авторизацию в реальных проектах).\n",
    "3. Класс `ParsesBody` имеет метод `body()`, возвращающий текст по ключу `body` в `self.request`.\n",
    "4. Класс `ParsesHeaders` имеет метод `headers()`, возвращающий все по ключу `headers` из словаря `self.request`.\n",
    "5. Класс `ParsesHeaders` имеет метод `need_json()`, который возвращает `True`, если в `headers` по ключу `\"content-type\"` лежит значение `\"application/json\"`, иначе `False`."
   ]
  },
  {
   "cell_type": "code",
   "execution_count": 23,
   "id": "3d6ba22f-5893-490a-8db0-f41864adf696",
   "metadata": {},
   "outputs": [],
   "source": [
    "class ParsesCookies:\n",
    "    def cookies(self):\n",
    "        return self.request.get(\"cookies\", {})\n",
    "\n",
    "    def is_authed(self):\n",
    "        return \"auth_key\" in self.request.get(\"cookies\", {})\n",
    "\n",
    "class ParsesBody:\n",
    "    def body(self):\n",
    "        return self.request.get(\"body\", \"\")\n",
    "\n",
    "class ParsesHeaders:\n",
    "    def headers():\n",
    "        return self.request.get(\"headers\", {})\n",
    "        \n",
    "    def need_json(self):\n",
    "        headers = self.request.get(\"headers\", {})\n",
    "        return headers.get(\"content-type\") == \"application/json\""
   ]
  },
  {
   "cell_type": "markdown",
   "id": "32618efd-3128-419d-ab2d-58e76f427b29",
   "metadata": {},
   "source": [
    "## > Множественное наследование (2/3)\n",
    "Используя миксины из прошлого пункта, напишите класс `JsonHandler`, который будет наследоваться от классов `ParsesBody` и `ParsesHeaders` , иметь метод `process()` и конструктор, принимающий аргумент request и сохраняющий в `self.request`. В этом задании нужно использовать библиотеку `json`.\n",
    "\n",
    "Метод `process()` должен работать следующим образом:\n",
    "\n",
    "1. Если `need_json()` дает `False`, то возвращать `None`\n",
    "2. Иначе получать тело через `body()`, пытаться считать его как `json.loads(...)` и возвращать число ключей в словаре. Если считать не удалось, то вернуть `None`.\n",
    "\n",
    "Обратите внимание, что с помощью миксин функциональность проверки headers и получения body была вынесена за JsonHandler - наш класс сосредоточился именно на обработке.\n",
    "\n",
    "```python\n",
    "# Пример использования\n",
    "r = {'body': '{\"a\": 123, \"b\": 1234}',\n",
    "     'headers': {'content-type': 'application/json'}\n",
    "    }\n",
    "print(JsonHandler(r).process())\n",
    "```"
   ]
  },
  {
   "cell_type": "code",
   "execution_count": 24,
   "id": "f137c2cd-5e51-4cb0-a069-b24f9a4ef5ce",
   "metadata": {},
   "outputs": [],
   "source": [
    "import json\n",
    "\n",
    "class JsonHandler(ParsesBody, ParsesHeaders):\n",
    "    def __init__(self, request):\n",
    "        self.request = request\n",
    "        \n",
    "    def process(self):\n",
    "        if self.need_json() == False:\n",
    "            return None\n",
    "        else:\n",
    "            try:\n",
    "                return len(json.loads(self.body()))\n",
    "            except:\n",
    "                return None\n",
    "            \n",
    "        "
   ]
  },
  {
   "cell_type": "code",
   "execution_count": 25,
   "id": "aeec4226-635a-4227-89fc-9866d8092abb",
   "metadata": {},
   "outputs": [
    {
     "name": "stdout",
     "output_type": "stream",
     "text": [
      "2\n"
     ]
    }
   ],
   "source": [
    "# Пример использования\n",
    "r = {'body': '{\"a\": 123, \"b\": 1234}',\n",
    "     'headers': {'content-type': 'application/json'}\n",
    "    }\n",
    "print(JsonHandler(r).process())"
   ]
  },
  {
   "cell_type": "markdown",
   "id": "bc500046-3bd7-4bf2-a6fd-41452e8cb568",
   "metadata": {},
   "source": [
    "## >  Множественное наследование (3/3)\n",
    "Используя миксины из прошлого пункта, напишите класс `SecureTextHandler`, который будет наследоваться от классов `ParsesBody` и `ParsesCookies` , иметь метод `process()` и конструктор, принимающий один аргумент и сохраняющий его в нужное поле класса.\n",
    "\n",
    "Метод `process()` должен работать следующим образом:\n",
    "\n",
    "1. Если `is_authed()` дает `False`, то возвращать `None`.\n",
    "2. Иначе получать тело через `body()` и возвращать его длину.\n",
    "\n",
    "```python\n",
    "# Примеры\n",
    "r = {'cookies': {'auth_key': '123'},\n",
    "     'body': 'hello'\n",
    "    }\n",
    "print(SecureTextHandler(r).process())\n",
    "# 5\n",
    "\n",
    "r = {'cookies': {},\n",
    "     'body': 'hello'\n",
    "    }\n",
    "print(SecureTextHandler(r).process())\n",
    "# None\n",
    "```"
   ]
  },
  {
   "cell_type": "code",
   "execution_count": 26,
   "id": "37ce33a1-c457-42fe-beee-82f0ec3ce8e9",
   "metadata": {},
   "outputs": [],
   "source": [
    "class SecureTextHandler(ParsesBody, ParsesCookies):\n",
    "\n",
    "    def __init__(self, request):\n",
    "        self.request = request\n",
    "\n",
    "    def process(self):\n",
    "        if self.is_authed() == False:\n",
    "            return None\n",
    "        else:\n",
    "            return len(self.body())\n",
    "    "
   ]
  },
  {
   "cell_type": "code",
   "execution_count": 27,
   "id": "507fcd88-f86e-4fa6-94b3-ed4bf50af5b5",
   "metadata": {},
   "outputs": [
    {
     "name": "stdout",
     "output_type": "stream",
     "text": [
      "5\n",
      "None\n"
     ]
    }
   ],
   "source": [
    "# Примеры\n",
    "r = {'cookies': {'auth_key': '123'},\n",
    "     'body': 'hello'\n",
    "    }\n",
    "print(SecureTextHandler(r).process())\n",
    "# 5\n",
    "\n",
    "r = {'cookies': {},\n",
    "     'body': 'hello'\n",
    "    }\n",
    "print(SecureTextHandler(r).process())\n",
    "# None"
   ]
  }
 ],
 "metadata": {
  "kernelspec": {
   "display_name": "Python 3 (ipykernel)",
   "language": "python",
   "name": "python3"
  },
  "language_info": {
   "codemirror_mode": {
    "name": "ipython",
    "version": 3
   },
   "file_extension": ".py",
   "mimetype": "text/x-python",
   "name": "python",
   "nbconvert_exporter": "python",
   "pygments_lexer": "ipython3",
   "version": "3.12.7"
  }
 },
 "nbformat": 4,
 "nbformat_minor": 5
}
