{
 "cells": [
  {
   "cell_type": "markdown",
   "id": "bc6edebd-ef32-4d3c-adf2-6d14c2287df8",
   "metadata": {},
   "source": [
    "# 5. Pandas"
   ]
  },
  {
   "cell_type": "markdown",
   "id": "c12e99a6-3d21-407a-ba31-6af974264112",
   "metadata": {},
   "source": [
    "## 1.\n",
    "\n",
    "В заданиях этого урока нам предстоит проанализировать данные об американских закусочных. Мы поищем, где можно купить тако в Калифорнии, в какие месяцы чаще всего открывали рестораны и разберем, какие есть подводные камни при работе с `pandas`.\n",
    "\n",
    "**Описание данных:**\n",
    "* `id` - уникальный идентификатор заведения\n",
    "* `address` - физический адрес заведения\n",
    "* `categories` - категории заведения (например, \"Fast food restaurant\").\n",
    "* `city` - город, в котором заведение находится.\n",
    "* `cuisines` - кухни, которые практикуются в заведении. Например \"Mexican\".\n",
    "* `dateAdded` - дата добавления записи. Будем считать, что она совпадает с датой открытия заведения.\n",
    "* `dateUpdated` - дата обновления информации о заведении.\n",
    "* `latitude` - географическая широта.\n",
    "* `longitude` - географическая долгота.\n",
    "* `menus.category` - категории пищи в меню.\n",
    "* `menus.currency` - валюта, в которой принимают оплату.\n",
    "* `menus.dateSeen` - дата, когда было заведено это меню.\n",
    "* `menus.description` - описание меню от заведения.\n",
    "* `menus.name` - название меню.\n",
    "* `name` - название заведения.\n",
    "* `province` - область (штат), где находится заведение."
   ]
  },
  {
   "cell_type": "markdown",
   "id": "d26af754-7f37-4d8c-9561-a8a865de2128",
   "metadata": {},
   "source": [
    "## 2.\n",
    "\n",
    "В качестве первого шага давайте посмотрим на наши данные c помощью метода `head()`\n",
    "\n",
    "Перечислите первые три значения колонки `dateAdded` через запятую и пробел в том порядке, в котором они были выведены. Например:\n",
    "\n",
    "```python\n",
    "2000-01-01T00:00:00Z, 2001-01-01T00:00:00Z, 2002-01-01T00:00:00Z\n",
    "```"
   ]
  },
  {
   "cell_type": "code",
   "execution_count": 4,
   "id": "51296f33-87f8-4615-b37b-d44c7c2fef03",
   "metadata": {},
   "outputs": [],
   "source": [
    "import pandas as pd"
   ]
  },
  {
   "cell_type": "code",
   "execution_count": 5,
   "id": "988f40ee-3b34-4634-ab0f-e32b9e932506",
   "metadata": {},
   "outputs": [
    {
     "data": {
      "text/html": [
       "<div>\n",
       "<style scoped>\n",
       "    .dataframe tbody tr th:only-of-type {\n",
       "        vertical-align: middle;\n",
       "    }\n",
       "\n",
       "    .dataframe tbody tr th {\n",
       "        vertical-align: top;\n",
       "    }\n",
       "\n",
       "    .dataframe thead th {\n",
       "        text-align: right;\n",
       "    }\n",
       "</style>\n",
       "<table border=\"1\" class=\"dataframe\">\n",
       "  <thead>\n",
       "    <tr style=\"text-align: right;\">\n",
       "      <th></th>\n",
       "      <th>id</th>\n",
       "      <th>address</th>\n",
       "      <th>categories</th>\n",
       "      <th>city</th>\n",
       "      <th>cuisines</th>\n",
       "      <th>dateAdded</th>\n",
       "      <th>dateUpdated</th>\n",
       "      <th>latitude</th>\n",
       "      <th>longitude</th>\n",
       "      <th>menus.category</th>\n",
       "      <th>menus.currency</th>\n",
       "      <th>menus.dateSeen</th>\n",
       "      <th>menus.description</th>\n",
       "      <th>menus.name</th>\n",
       "      <th>name</th>\n",
       "      <th>province</th>\n",
       "    </tr>\n",
       "  </thead>\n",
       "  <tbody>\n",
       "    <tr>\n",
       "      <th>0</th>\n",
       "      <td>AVwc__cikufWRAb51QjV</td>\n",
       "      <td>610 Commercial St</td>\n",
       "      <td>Restaurant Delivery Service,Restaurants,Pizza,...</td>\n",
       "      <td>Atchison</td>\n",
       "      <td>Restaurant Delivery Service</td>\n",
       "      <td>2016-03-02T11:49:34Z</td>\n",
       "      <td>2017-02-01T18:04:44Z</td>\n",
       "      <td>39.561570</td>\n",
       "      <td>-95.121020</td>\n",
       "      <td>NaN</td>\n",
       "      <td>NaN</td>\n",
       "      <td>2017-02-01T18:04:44Z</td>\n",
       "      <td>NaN</td>\n",
       "      <td>Taco</td>\n",
       "      <td>Gambino's Pizza</td>\n",
       "      <td>KS</td>\n",
       "    </tr>\n",
       "    <tr>\n",
       "      <th>1</th>\n",
       "      <td>AVwc__cikufWRAb51QjV</td>\n",
       "      <td>610 Commercial St</td>\n",
       "      <td>Restaurant Delivery Service,Restaurants,Pizza,...</td>\n",
       "      <td>Atchison</td>\n",
       "      <td>Restaurant Delivery Service</td>\n",
       "      <td>2016-03-02T11:49:34Z</td>\n",
       "      <td>2017-02-01T18:04:44Z</td>\n",
       "      <td>39.561570</td>\n",
       "      <td>-95.121020</td>\n",
       "      <td>NaN</td>\n",
       "      <td>NaN</td>\n",
       "      <td>2016-03-02T11:49:34Z</td>\n",
       "      <td>Beef, onion, cheddar cheese, lettuce,  refried...</td>\n",
       "      <td>Taco</td>\n",
       "      <td>Gambino's Pizza</td>\n",
       "      <td>KS</td>\n",
       "    </tr>\n",
       "    <tr>\n",
       "      <th>2</th>\n",
       "      <td>AVwc__dF_7pvs4fz1Ncy</td>\n",
       "      <td>9521 Morton Davis Dr</td>\n",
       "      <td>Golf Course, American Restaurant, and Resort</td>\n",
       "      <td>Patterson</td>\n",
       "      <td>NaN</td>\n",
       "      <td>2016-10-14T01:58:25Z</td>\n",
       "      <td>2016-10-14T01:58:25Z</td>\n",
       "      <td>37.401855</td>\n",
       "      <td>-121.266703</td>\n",
       "      <td>NaN</td>\n",
       "      <td>NaN</td>\n",
       "      <td>2016-10-14T01:58:25Z</td>\n",
       "      <td>Beef barbacoa or chicken, spanish rice, pico d...</td>\n",
       "      <td>Smotherd Burrito</td>\n",
       "      <td>Diablo Grande Golf &amp; Country Club</td>\n",
       "      <td>Grayson</td>\n",
       "    </tr>\n",
       "    <tr>\n",
       "      <th>3</th>\n",
       "      <td>AVwc__kCByjofQCxkdm-</td>\n",
       "      <td>10550 W I 25 Frontage Rd</td>\n",
       "      <td>Fast Food Restaurant</td>\n",
       "      <td>Longmont</td>\n",
       "      <td>NaN</td>\n",
       "      <td>2016-09-09T17:30:34Z</td>\n",
       "      <td>2016-10-04T05:15:17Z</td>\n",
       "      <td>NaN</td>\n",
       "      <td>NaN</td>\n",
       "      <td>NaN</td>\n",
       "      <td>NaN</td>\n",
       "      <td>2016-09-09T17:30:34Z</td>\n",
       "      <td>NaN</td>\n",
       "      <td>Sausage Burrito</td>\n",
       "      <td>Mcdonald's</td>\n",
       "      <td>Niwot</td>\n",
       "    </tr>\n",
       "    <tr>\n",
       "      <th>4</th>\n",
       "      <td>AVwc__WtByjofQCxkdkR</td>\n",
       "      <td>8495 W 3rd St</td>\n",
       "      <td>Mexican Restaurant Mid-City West,Mexican Resta...</td>\n",
       "      <td>Los Angeles</td>\n",
       "      <td>Mexican</td>\n",
       "      <td>2016-05-19T11:50:25Z</td>\n",
       "      <td>2016-09-11T00:06:37Z</td>\n",
       "      <td>34.080724</td>\n",
       "      <td>-118.389578</td>\n",
       "      <td>NaN</td>\n",
       "      <td>NaN</td>\n",
       "      <td>2016-05-19T11:50:25Z</td>\n",
       "      <td>Wahoo, avocado, cabbage, pico de gallo  and av...</td>\n",
       "      <td>Wahoo Tacogrilled</td>\n",
       "      <td>Baja Fresh Mexican Grill</td>\n",
       "      <td>Bicentennial</td>\n",
       "    </tr>\n",
       "  </tbody>\n",
       "</table>\n",
       "</div>"
      ],
      "text/plain": [
       "                     id                   address  \\\n",
       "0  AVwc__cikufWRAb51QjV         610 Commercial St   \n",
       "1  AVwc__cikufWRAb51QjV         610 Commercial St   \n",
       "2  AVwc__dF_7pvs4fz1Ncy      9521 Morton Davis Dr   \n",
       "3  AVwc__kCByjofQCxkdm-  10550 W I 25 Frontage Rd   \n",
       "4  AVwc__WtByjofQCxkdkR             8495 W 3rd St   \n",
       "\n",
       "                                          categories         city  \\\n",
       "0  Restaurant Delivery Service,Restaurants,Pizza,...     Atchison   \n",
       "1  Restaurant Delivery Service,Restaurants,Pizza,...     Atchison   \n",
       "2       Golf Course, American Restaurant, and Resort    Patterson   \n",
       "3                               Fast Food Restaurant     Longmont   \n",
       "4  Mexican Restaurant Mid-City West,Mexican Resta...  Los Angeles   \n",
       "\n",
       "                      cuisines             dateAdded           dateUpdated  \\\n",
       "0  Restaurant Delivery Service  2016-03-02T11:49:34Z  2017-02-01T18:04:44Z   \n",
       "1  Restaurant Delivery Service  2016-03-02T11:49:34Z  2017-02-01T18:04:44Z   \n",
       "2                          NaN  2016-10-14T01:58:25Z  2016-10-14T01:58:25Z   \n",
       "3                          NaN  2016-09-09T17:30:34Z  2016-10-04T05:15:17Z   \n",
       "4                      Mexican  2016-05-19T11:50:25Z  2016-09-11T00:06:37Z   \n",
       "\n",
       "    latitude   longitude menus.category menus.currency        menus.dateSeen  \\\n",
       "0  39.561570  -95.121020            NaN            NaN  2017-02-01T18:04:44Z   \n",
       "1  39.561570  -95.121020            NaN            NaN  2016-03-02T11:49:34Z   \n",
       "2  37.401855 -121.266703            NaN            NaN  2016-10-14T01:58:25Z   \n",
       "3        NaN         NaN            NaN            NaN  2016-09-09T17:30:34Z   \n",
       "4  34.080724 -118.389578            NaN            NaN  2016-05-19T11:50:25Z   \n",
       "\n",
       "                                   menus.description         menus.name  \\\n",
       "0                                                NaN               Taco   \n",
       "1  Beef, onion, cheddar cheese, lettuce,  refried...               Taco   \n",
       "2  Beef barbacoa or chicken, spanish rice, pico d...   Smotherd Burrito   \n",
       "3                                                NaN    Sausage Burrito   \n",
       "4  Wahoo, avocado, cabbage, pico de gallo  and av...  Wahoo Tacogrilled   \n",
       "\n",
       "                                name      province  \n",
       "0                    Gambino's Pizza            KS  \n",
       "1                    Gambino's Pizza            KS  \n",
       "2  Diablo Grande Golf & Country Club       Grayson  \n",
       "3                         Mcdonald's         Niwot  \n",
       "4           Baja Fresh Mexican Grill  Bicentennial  "
      ]
     },
     "execution_count": 5,
     "metadata": {},
     "output_type": "execute_result"
    }
   ],
   "source": [
    "us_fastfoods = pd.read_csv(\"data.csv\", sep=\",\")\n",
    "us_fastfoods.head()"
   ]
  },
  {
   "cell_type": "code",
   "execution_count": 6,
   "id": "98e2cd13-9e0b-4c8b-9772-35148c4ede35",
   "metadata": {},
   "outputs": [
    {
     "data": {
      "text/plain": [
       "(77260, 16)"
      ]
     },
     "execution_count": 6,
     "metadata": {},
     "output_type": "execute_result"
    }
   ],
   "source": [
    "us_fastfoods.shape"
   ]
  },
  {
   "cell_type": "markdown",
   "id": "d913da4d-0d59-4f86-bb95-f9a4c72db4c7",
   "metadata": {},
   "source": [
    "## 3.\n",
    "\n",
    "Давайте посмотрим, какой тип имеют колонки `city` и `latitude.`"
   ]
  },
  {
   "cell_type": "code",
   "execution_count": 7,
   "id": "0deb5705-f702-458f-b8d2-7adeccda247f",
   "metadata": {},
   "outputs": [
    {
     "data": {
      "text/plain": [
       "id                    object\n",
       "address               object\n",
       "categories            object\n",
       "city                  object\n",
       "cuisines              object\n",
       "dateAdded             object\n",
       "dateUpdated           object\n",
       "latitude             float64\n",
       "longitude            float64\n",
       "menus.category        object\n",
       "menus.currency        object\n",
       "menus.dateSeen        object\n",
       "menus.description     object\n",
       "menus.name            object\n",
       "name                  object\n",
       "province              object\n",
       "dtype: object"
      ]
     },
     "execution_count": 7,
     "metadata": {},
     "output_type": "execute_result"
    }
   ],
   "source": [
    "us_fastfoods.dtypes"
   ]
  },
  {
   "cell_type": "markdown",
   "id": "e040cf66-1c9a-4c1e-a397-6ff597f8714d",
   "metadata": {},
   "source": [
    "## 4.\n",
    "Какие колонки будут выведены при применении метода `describe` и почему только они?\n",
    "\n",
    "## 5.\n",
    "Какие средние значения в тех колонках, которые вывел describe?"
   ]
  },
  {
   "cell_type": "code",
   "execution_count": 8,
   "id": "f992d13f-6a27-4f9f-b60c-11ca7b78fa10",
   "metadata": {},
   "outputs": [
    {
     "data": {
      "text/html": [
       "<div>\n",
       "<style scoped>\n",
       "    .dataframe tbody tr th:only-of-type {\n",
       "        vertical-align: middle;\n",
       "    }\n",
       "\n",
       "    .dataframe tbody tr th {\n",
       "        vertical-align: top;\n",
       "    }\n",
       "\n",
       "    .dataframe thead th {\n",
       "        text-align: right;\n",
       "    }\n",
       "</style>\n",
       "<table border=\"1\" class=\"dataframe\">\n",
       "  <thead>\n",
       "    <tr style=\"text-align: right;\">\n",
       "      <th></th>\n",
       "      <th>latitude</th>\n",
       "      <th>longitude</th>\n",
       "    </tr>\n",
       "  </thead>\n",
       "  <tbody>\n",
       "    <tr>\n",
       "      <th>count</th>\n",
       "      <td>55636.000000</td>\n",
       "      <td>55636.000000</td>\n",
       "    </tr>\n",
       "    <tr>\n",
       "      <th>mean</th>\n",
       "      <td>36.694846</td>\n",
       "      <td>-98.713309</td>\n",
       "    </tr>\n",
       "    <tr>\n",
       "      <th>std</th>\n",
       "      <td>4.835124</td>\n",
       "      <td>18.245857</td>\n",
       "    </tr>\n",
       "    <tr>\n",
       "      <th>min</th>\n",
       "      <td>-31.986438</td>\n",
       "      <td>-159.492690</td>\n",
       "    </tr>\n",
       "    <tr>\n",
       "      <th>25%</th>\n",
       "      <td>33.668355</td>\n",
       "      <td>-117.647150</td>\n",
       "    </tr>\n",
       "    <tr>\n",
       "      <th>50%</th>\n",
       "      <td>36.047195</td>\n",
       "      <td>-96.682320</td>\n",
       "    </tr>\n",
       "    <tr>\n",
       "      <th>75%</th>\n",
       "      <td>40.588380</td>\n",
       "      <td>-82.679930</td>\n",
       "    </tr>\n",
       "    <tr>\n",
       "      <th>max</th>\n",
       "      <td>61.219460</td>\n",
       "      <td>115.903696</td>\n",
       "    </tr>\n",
       "  </tbody>\n",
       "</table>\n",
       "</div>"
      ],
      "text/plain": [
       "           latitude     longitude\n",
       "count  55636.000000  55636.000000\n",
       "mean      36.694846    -98.713309\n",
       "std        4.835124     18.245857\n",
       "min      -31.986438   -159.492690\n",
       "25%       33.668355   -117.647150\n",
       "50%       36.047195    -96.682320\n",
       "75%       40.588380    -82.679930\n",
       "max       61.219460    115.903696"
      ]
     },
     "execution_count": 8,
     "metadata": {},
     "output_type": "execute_result"
    }
   ],
   "source": [
    "us_fastfoods.describe()"
   ]
  },
  {
   "cell_type": "markdown",
   "id": "8945664e-0c69-4185-8259-76b70af767cc",
   "metadata": {},
   "source": [
    "## 6.\n",
    "\n",
    "Сейчас в данных присутствуют пропущенные значения. Давайте их удалим.\n",
    "\n",
    "Примените метод `dropna`. Сколько осталось записей?"
   ]
  },
  {
   "cell_type": "code",
   "execution_count": 9,
   "id": "41fb237d-85d5-4952-aba9-aeafd976c184",
   "metadata": {},
   "outputs": [
    {
     "data": {
      "text/plain": [
       "(1925, 16)"
      ]
     },
     "execution_count": 9,
     "metadata": {},
     "output_type": "execute_result"
    }
   ],
   "source": [
    "us_fastfoods_without_na = us_fastfoods.dropna()\n",
    "us_fastfoods_without_na.shape"
   ]
  },
  {
   "cell_type": "markdown",
   "id": "48b7d009-c1fc-4a06-ba1c-c1167ce1f535",
   "metadata": {},
   "source": [
    "## 7.\n",
    "Отберите заведения, которые находятся в городе Калифорния (`'California'`), штат Миссури.  Укажите индексы, под которыми полученные заведения расположены в датафрейме, через запятую и пробел в порядке возрастания. "
   ]
  },
  {
   "cell_type": "code",
   "execution_count": 12,
   "id": "a1dcec1c-a008-4c83-88f8-7b3a95a4d76c",
   "metadata": {},
   "outputs": [
    {
     "data": {
      "text/plain": [
       "Index([40483, 52930, 52931, 52932, 52933, 52934, 52935, 52936, 52937, 52938,\n",
       "       52939, 65070],\n",
       "      dtype='int64')"
      ]
     },
     "execution_count": 12,
     "metadata": {},
     "output_type": "execute_result"
    }
   ],
   "source": [
    "us_fastfoods[(us_fastfoods[\"city\"] == \"California\")&(us_fastfoods[\"province\"] == \"MO\")].index"
   ]
  },
  {
   "cell_type": "markdown",
   "id": "ec889a15-17ab-4b20-9367-48bfdaa4e097",
   "metadata": {},
   "source": [
    "## 8.\n",
    "Отберите заведения `Taco Bell` в городе Калифорния (`'California'`), штат Миссури."
   ]
  },
  {
   "cell_type": "code",
   "execution_count": 13,
   "id": "8fbdf24b-6626-46ac-9c4d-c22ad841c68d",
   "metadata": {},
   "outputs": [
    {
     "data": {
      "text/plain": [
       "Index([52930, 52931, 52932, 52933, 52934, 52935, 52936, 52937, 52938, 52939], dtype='int64')"
      ]
     },
     "execution_count": 13,
     "metadata": {},
     "output_type": "execute_result"
    }
   ],
   "source": [
    "us_fastfoods[(us_fastfoods[\"name\"] == \"Taco Bell\")&(us_fastfoods[\"city\"] == \"California\")&(us_fastfoods[\"province\"] == \"MO\")].index"
   ]
  },
  {
   "cell_type": "markdown",
   "id": "2f15ba4a-a21d-41fd-a5a6-a19c0b91c5dc",
   "metadata": {},
   "source": [
    "## 9.\n",
    "Давайте найдем заведения `Taco Bell` или заведения, которые находятся в городе Нью-Йорк. При этом обязательно, чтобы в названии меню **не было** `Volcano Taco` и `Fresco Soft Taco` (именно таких значений колонки). Данные нужно сохранить в датафрейм `result`."
   ]
  },
  {
   "cell_type": "code",
   "execution_count": 16,
   "id": "79ef4e1a-618f-4e47-ba70-d0fc2d455d95",
   "metadata": {},
   "outputs": [
    {
     "data": {
      "text/plain": [
       "(3756, 16)"
      ]
     },
     "execution_count": 16,
     "metadata": {},
     "output_type": "execute_result"
    }
   ],
   "source": [
    "result = us_fastfoods[((us_fastfoods[\"name\"] == \"Taco Bell\") | (us_fastfoods[\"city\"] == \"New York\")) & (~(us_fastfoods[\"menus.name\"].isin([\"Volcano Taco\", \"Fresco Soft Taco\"])))]\n",
    "result.shape"
   ]
  },
  {
   "cell_type": "markdown",
   "id": "6b44bbad-dd81-4635-9a65-9cc187d943e2",
   "metadata": {},
   "source": [
    "## 10.\n",
    "Давайте отберем заведения, где значение валюты, в которой принимают оплату, не пропущено."
   ]
  },
  {
   "cell_type": "code",
   "execution_count": 17,
   "id": "6bb91773-3a23-4183-9a49-5b035595dbe8",
   "metadata": {},
   "outputs": [
    {
     "data": {
      "text/html": [
       "<div>\n",
       "<style scoped>\n",
       "    .dataframe tbody tr th:only-of-type {\n",
       "        vertical-align: middle;\n",
       "    }\n",
       "\n",
       "    .dataframe tbody tr th {\n",
       "        vertical-align: top;\n",
       "    }\n",
       "\n",
       "    .dataframe thead th {\n",
       "        text-align: right;\n",
       "    }\n",
       "</style>\n",
       "<table border=\"1\" class=\"dataframe\">\n",
       "  <thead>\n",
       "    <tr style=\"text-align: right;\">\n",
       "      <th></th>\n",
       "      <th>id</th>\n",
       "      <th>address</th>\n",
       "      <th>categories</th>\n",
       "      <th>city</th>\n",
       "      <th>cuisines</th>\n",
       "      <th>dateAdded</th>\n",
       "      <th>dateUpdated</th>\n",
       "      <th>latitude</th>\n",
       "      <th>longitude</th>\n",
       "      <th>menus.category</th>\n",
       "      <th>menus.currency</th>\n",
       "      <th>menus.dateSeen</th>\n",
       "      <th>menus.description</th>\n",
       "      <th>menus.name</th>\n",
       "      <th>name</th>\n",
       "      <th>province</th>\n",
       "    </tr>\n",
       "  </thead>\n",
       "  <tbody>\n",
       "    <tr>\n",
       "      <th>15</th>\n",
       "      <td>AVwc_1y6kufWRAb51O6w</td>\n",
       "      <td>906 Park Ave SW</td>\n",
       "      <td>Coffee Shop,Restaurants,Coffeehouses</td>\n",
       "      <td>Albuquerque</td>\n",
       "      <td>Coffee Shops</td>\n",
       "      <td>2016-06-05T20:15:56Z</td>\n",
       "      <td>2017-07-06T13:28:29Z</td>\n",
       "      <td>35.085320</td>\n",
       "      <td>-106.657616</td>\n",
       "      <td>NaN</td>\n",
       "      <td>USD</td>\n",
       "      <td>2016-06-05T20:15:56Z,2016-10-20T07:09:38Z</td>\n",
       "      <td>Potatoes, onion, peppers, mushroom, avocado, b...</td>\n",
       "      <td>Mondo Veggie Burrito</td>\n",
       "      <td>Java Joe's</td>\n",
       "      <td>NM</td>\n",
       "    </tr>\n",
       "    <tr>\n",
       "      <th>16</th>\n",
       "      <td>AVwc_1y6kufWRAb51O6w</td>\n",
       "      <td>906 Park Ave SW</td>\n",
       "      <td>Coffee Shop,Restaurants,Coffeehouses</td>\n",
       "      <td>Albuquerque</td>\n",
       "      <td>Coffee Shops</td>\n",
       "      <td>2016-06-05T20:15:56Z</td>\n",
       "      <td>2017-07-06T13:28:29Z</td>\n",
       "      <td>35.085320</td>\n",
       "      <td>-106.657616</td>\n",
       "      <td>NaN</td>\n",
       "      <td>USD</td>\n",
       "      <td>2016-06-05T20:15:56Z,2016-10-20T07:09:38Z</td>\n",
       "      <td>Grilled tofu, potatoes and your choice of chil...</td>\n",
       "      <td>Tofu Burrito</td>\n",
       "      <td>Java Joe's</td>\n",
       "      <td>NM</td>\n",
       "    </tr>\n",
       "    <tr>\n",
       "      <th>17</th>\n",
       "      <td>AVwc_1y6kufWRAb51O6w</td>\n",
       "      <td>906 Park Ave SW</td>\n",
       "      <td>Coffee Shop,Restaurants,Coffeehouses</td>\n",
       "      <td>Albuquerque</td>\n",
       "      <td>Coffee Shops</td>\n",
       "      <td>2016-06-05T20:15:56Z</td>\n",
       "      <td>2017-07-06T13:28:29Z</td>\n",
       "      <td>35.085320</td>\n",
       "      <td>-106.657616</td>\n",
       "      <td>NaN</td>\n",
       "      <td>USD</td>\n",
       "      <td>2016-06-05T20:15:56Z,2016-10-20T07:09:38Z</td>\n",
       "      <td>NaN</td>\n",
       "      <td>Black Bean Burrito</td>\n",
       "      <td>Java Joe's</td>\n",
       "      <td>NM</td>\n",
       "    </tr>\n",
       "    <tr>\n",
       "      <th>18</th>\n",
       "      <td>AVwc_2OQ_7pvs4fz1L5H</td>\n",
       "      <td>100 W Higgins Rd</td>\n",
       "      <td>Restaurant</td>\n",
       "      <td>Barrington</td>\n",
       "      <td>Mexican, Latin American</td>\n",
       "      <td>2016-07-26T17:39:41Z</td>\n",
       "      <td>2016-08-26T05:25:56Z</td>\n",
       "      <td>42.074974</td>\n",
       "      <td>-88.189151</td>\n",
       "      <td>NaN</td>\n",
       "      <td>USD</td>\n",
       "      <td>2016-08-22T00:00:00Z</td>\n",
       "      <td>NaN</td>\n",
       "      <td>Burrito De Rajas</td>\n",
       "      <td>Mago Grill &amp; Cantina - South Barrington</td>\n",
       "      <td>Fox Rv Vly Gn</td>\n",
       "    </tr>\n",
       "    <tr>\n",
       "      <th>19</th>\n",
       "      <td>AVwc_2OQ_7pvs4fz1L5H</td>\n",
       "      <td>100 W Higgins Rd</td>\n",
       "      <td>Restaurant</td>\n",
       "      <td>Barrington</td>\n",
       "      <td>Mexican, Latin American</td>\n",
       "      <td>2016-07-26T17:39:41Z</td>\n",
       "      <td>2016-08-26T05:25:56Z</td>\n",
       "      <td>42.074974</td>\n",
       "      <td>-88.189151</td>\n",
       "      <td>NaN</td>\n",
       "      <td>USD</td>\n",
       "      <td>2016-08-22T00:00:00Z</td>\n",
       "      <td>lettuce, chihuahua cheese, black beans, mexica...</td>\n",
       "      <td>Taco</td>\n",
       "      <td>Mago Grill &amp; Cantina - South Barrington</td>\n",
       "      <td>Fox Rv Vly Gn</td>\n",
       "    </tr>\n",
       "  </tbody>\n",
       "</table>\n",
       "</div>"
      ],
      "text/plain": [
       "                      id           address  \\\n",
       "15  AVwc_1y6kufWRAb51O6w   906 Park Ave SW   \n",
       "16  AVwc_1y6kufWRAb51O6w   906 Park Ave SW   \n",
       "17  AVwc_1y6kufWRAb51O6w   906 Park Ave SW   \n",
       "18  AVwc_2OQ_7pvs4fz1L5H  100 W Higgins Rd   \n",
       "19  AVwc_2OQ_7pvs4fz1L5H  100 W Higgins Rd   \n",
       "\n",
       "                              categories         city  \\\n",
       "15  Coffee Shop,Restaurants,Coffeehouses  Albuquerque   \n",
       "16  Coffee Shop,Restaurants,Coffeehouses  Albuquerque   \n",
       "17  Coffee Shop,Restaurants,Coffeehouses  Albuquerque   \n",
       "18                            Restaurant   Barrington   \n",
       "19                            Restaurant   Barrington   \n",
       "\n",
       "                   cuisines             dateAdded           dateUpdated  \\\n",
       "15             Coffee Shops  2016-06-05T20:15:56Z  2017-07-06T13:28:29Z   \n",
       "16             Coffee Shops  2016-06-05T20:15:56Z  2017-07-06T13:28:29Z   \n",
       "17             Coffee Shops  2016-06-05T20:15:56Z  2017-07-06T13:28:29Z   \n",
       "18  Mexican, Latin American  2016-07-26T17:39:41Z  2016-08-26T05:25:56Z   \n",
       "19  Mexican, Latin American  2016-07-26T17:39:41Z  2016-08-26T05:25:56Z   \n",
       "\n",
       "     latitude   longitude menus.category menus.currency  \\\n",
       "15  35.085320 -106.657616            NaN            USD   \n",
       "16  35.085320 -106.657616            NaN            USD   \n",
       "17  35.085320 -106.657616            NaN            USD   \n",
       "18  42.074974  -88.189151            NaN            USD   \n",
       "19  42.074974  -88.189151            NaN            USD   \n",
       "\n",
       "                               menus.dateSeen  \\\n",
       "15  2016-06-05T20:15:56Z,2016-10-20T07:09:38Z   \n",
       "16  2016-06-05T20:15:56Z,2016-10-20T07:09:38Z   \n",
       "17  2016-06-05T20:15:56Z,2016-10-20T07:09:38Z   \n",
       "18                       2016-08-22T00:00:00Z   \n",
       "19                       2016-08-22T00:00:00Z   \n",
       "\n",
       "                                    menus.description            menus.name  \\\n",
       "15  Potatoes, onion, peppers, mushroom, avocado, b...  Mondo Veggie Burrito   \n",
       "16  Grilled tofu, potatoes and your choice of chil...          Tofu Burrito   \n",
       "17                                                NaN    Black Bean Burrito   \n",
       "18                                                NaN      Burrito De Rajas   \n",
       "19  lettuce, chihuahua cheese, black beans, mexica...                  Taco   \n",
       "\n",
       "                                       name       province  \n",
       "15                               Java Joe's             NM  \n",
       "16                               Java Joe's             NM  \n",
       "17                               Java Joe's             NM  \n",
       "18  Mago Grill & Cantina - South Barrington  Fox Rv Vly Gn  \n",
       "19  Mago Grill & Cantina - South Barrington  Fox Rv Vly Gn  "
      ]
     },
     "execution_count": 17,
     "metadata": {},
     "output_type": "execute_result"
    }
   ],
   "source": [
    "result = us_fastfoods[~(us_fastfoods[\"menus.currency\"].isna())]\n",
    "result.head()"
   ]
  },
  {
   "cell_type": "markdown",
   "id": "6cc875f7-0abe-46b6-a7a4-861e61424ea1",
   "metadata": {},
   "source": [
    "## 11.\n",
    "Попробуйте сделать `data['categories']`, `data[['categories']]`, посмотрите на тип и на значения их элементов.\n",
    "\n",
    "`data['categories']` выдает `Series`, `data[['categories']]` выдает `DataFrame`. В обоих случаях тип данных object"
   ]
  },
  {
   "cell_type": "code",
   "execution_count": 27,
   "id": "3a3381f2-c43a-466d-8938-e10fa43c1d9d",
   "metadata": {},
   "outputs": [
    {
     "data": {
      "text/plain": [
       "0    Restaurant Delivery Service,Restaurants,Pizza,...\n",
       "1    Restaurant Delivery Service,Restaurants,Pizza,...\n",
       "2         Golf Course, American Restaurant, and Resort\n",
       "3                                 Fast Food Restaurant\n",
       "4    Mexican Restaurant Mid-City West,Mexican Resta...\n",
       "Name: categories, dtype: object"
      ]
     },
     "execution_count": 27,
     "metadata": {},
     "output_type": "execute_result"
    }
   ],
   "source": [
    "us_fastfoods[\"categories\"].head()"
   ]
  },
  {
   "cell_type": "code",
   "execution_count": 28,
   "id": "3044e08f-cb31-4812-a7ec-a86a803c3ef8",
   "metadata": {},
   "outputs": [
    {
     "data": {
      "text/html": [
       "<div>\n",
       "<style scoped>\n",
       "    .dataframe tbody tr th:only-of-type {\n",
       "        vertical-align: middle;\n",
       "    }\n",
       "\n",
       "    .dataframe tbody tr th {\n",
       "        vertical-align: top;\n",
       "    }\n",
       "\n",
       "    .dataframe thead th {\n",
       "        text-align: right;\n",
       "    }\n",
       "</style>\n",
       "<table border=\"1\" class=\"dataframe\">\n",
       "  <thead>\n",
       "    <tr style=\"text-align: right;\">\n",
       "      <th></th>\n",
       "      <th>categories</th>\n",
       "    </tr>\n",
       "  </thead>\n",
       "  <tbody>\n",
       "    <tr>\n",
       "      <th>0</th>\n",
       "      <td>Restaurant Delivery Service,Restaurants,Pizza,...</td>\n",
       "    </tr>\n",
       "    <tr>\n",
       "      <th>1</th>\n",
       "      <td>Restaurant Delivery Service,Restaurants,Pizza,...</td>\n",
       "    </tr>\n",
       "    <tr>\n",
       "      <th>2</th>\n",
       "      <td>Golf Course, American Restaurant, and Resort</td>\n",
       "    </tr>\n",
       "    <tr>\n",
       "      <th>3</th>\n",
       "      <td>Fast Food Restaurant</td>\n",
       "    </tr>\n",
       "    <tr>\n",
       "      <th>4</th>\n",
       "      <td>Mexican Restaurant Mid-City West,Mexican Resta...</td>\n",
       "    </tr>\n",
       "  </tbody>\n",
       "</table>\n",
       "</div>"
      ],
      "text/plain": [
       "                                          categories\n",
       "0  Restaurant Delivery Service,Restaurants,Pizza,...\n",
       "1  Restaurant Delivery Service,Restaurants,Pizza,...\n",
       "2       Golf Course, American Restaurant, and Resort\n",
       "3                               Fast Food Restaurant\n",
       "4  Mexican Restaurant Mid-City West,Mexican Resta..."
      ]
     },
     "execution_count": 28,
     "metadata": {},
     "output_type": "execute_result"
    }
   ],
   "source": [
    "us_fastfoods[[\"categories\"]].head()"
   ]
  },
  {
   "cell_type": "markdown",
   "id": "187acb58-0544-4500-b173-7ad21d3614ce",
   "metadata": {},
   "source": [
    "## 12.\n",
    "Напишите через запятую и пробел 5 городов с наибольшим количеством записей (в порядке убывания количества записей)."
   ]
  },
  {
   "cell_type": "code",
   "execution_count": 34,
   "id": "7ff7bce2-6f2a-45e7-8382-8454c9f448ad",
   "metadata": {},
   "outputs": [
    {
     "data": {
      "text/plain": [
       "city\n",
       "San Diego            1924\n",
       "Los Angeles          1603\n",
       "Chicago              1186\n",
       "San Francisco        1120\n",
       "New York             1085\n",
       "                     ... \n",
       "Corfu                   1\n",
       "Sharon Hill             1\n",
       "Lawrence Township       1\n",
       "Selinsgrove             1\n",
       "Santa Clarita           1\n",
       "Name: count, Length: 3601, dtype: int64"
      ]
     },
     "execution_count": 34,
     "metadata": {},
     "output_type": "execute_result"
    }
   ],
   "source": [
    "us_fastfoods[\"city\"].value_counts()"
   ]
  },
  {
   "cell_type": "markdown",
   "id": "de47bb42-49bc-4aa2-99f7-5c1445742d7a",
   "metadata": {},
   "source": [
    "## 13.\n",
    "\n",
    "Посчитайте, сколько ресторанов `Taco Bell` находится в каждом городе. Отберите 5 городов, в которых ресторан встречается чаще всего. Количество ресторанов для этих городов с их названиями сохраните в виде объекта `pd.Series` в переменную `result`."
   ]
  },
  {
   "cell_type": "code",
   "execution_count": 44,
   "id": "ba5e03bc-d59c-42b5-8989-54fcb18dc9a5",
   "metadata": {},
   "outputs": [
    {
     "data": {
      "text/plain": [
       "city\n",
       "Indianapolis        84\n",
       "Columbus            63\n",
       "Charleston          63\n",
       "Tampa               62\n",
       "South Lake Tahoe    42\n",
       "Name: count, dtype: int64"
      ]
     },
     "execution_count": 44,
     "metadata": {},
     "output_type": "execute_result"
    }
   ],
   "source": [
    "result = us_fastfoods[us_fastfoods[\"name\"] == \"Taco Bell\"][\"city\"].value_counts()[0:5]\n",
    "result"
   ]
  },
  {
   "cell_type": "markdown",
   "id": "804ebf9e-f909-45ea-b352-4276dc0e572c",
   "metadata": {},
   "source": [
    "## 14.\n",
    "\n",
    "Давайте найдем рестораны, открытые в октябре.\n",
    "\n",
    "В качестве ответа отправьте индексы первых пяти записей, соответствующих ресторанам, открытым в октябре (ресторан может повторяться). Ответ запишите через запятую и пробел в порядке возрастания.\n",
    "\n",
    "Советуем вам посмотреть в сторону метода `to_datetime`."
   ]
  },
  {
   "cell_type": "code",
   "execution_count": 48,
   "id": "d40a7548-72ff-4871-90ab-ad51e024099e",
   "metadata": {},
   "outputs": [
    {
     "data": {
      "text/plain": [
       "Index([2, 21, 22, 23, 24], dtype='int64')"
      ]
     },
     "execution_count": 48,
     "metadata": {},
     "output_type": "execute_result"
    }
   ],
   "source": [
    "us_fastfoods[\"dateAdded\"] = pd.to_datetime(us_fastfoods[\"dateAdded\"])\n",
    "us_fastfoods[us_fastfoods[\"dateAdded\"].dt.month == 10].index[0:5]"
   ]
  },
  {
   "cell_type": "markdown",
   "id": "25234f56-46bb-4a16-ac7f-75a65df32826",
   "metadata": {},
   "source": [
    "## 15.\n",
    "\n",
    "Сделайте группировку по месяцу открытия ресторана (переменная `dateAdded`). Сколько ресторанов было открыто в каждом месяце? Рассчитайте по количеству уникальных id ресторанов в каждом месяце. Значения `dateAdded` должны при этом быть индексами. Результирующий датафрейм сохраните в `result`"
   ]
  },
  {
   "cell_type": "code",
   "execution_count": 69,
   "id": "d3fc8823-b4ff-4fb7-8a11-adb2dce5355b",
   "metadata": {},
   "outputs": [
    {
     "data": {
      "text/html": [
       "<div>\n",
       "<style scoped>\n",
       "    .dataframe tbody tr th:only-of-type {\n",
       "        vertical-align: middle;\n",
       "    }\n",
       "\n",
       "    .dataframe tbody tr th {\n",
       "        vertical-align: top;\n",
       "    }\n",
       "\n",
       "    .dataframe thead th {\n",
       "        text-align: right;\n",
       "    }\n",
       "</style>\n",
       "<table border=\"1\" class=\"dataframe\">\n",
       "  <thead>\n",
       "    <tr style=\"text-align: right;\">\n",
       "      <th></th>\n",
       "      <th>id</th>\n",
       "    </tr>\n",
       "    <tr>\n",
       "      <th>dateAdded</th>\n",
       "      <th></th>\n",
       "    </tr>\n",
       "  </thead>\n",
       "  <tbody>\n",
       "    <tr>\n",
       "      <th>1</th>\n",
       "      <td>308</td>\n",
       "    </tr>\n",
       "    <tr>\n",
       "      <th>2</th>\n",
       "      <td>257</td>\n",
       "    </tr>\n",
       "    <tr>\n",
       "      <th>3</th>\n",
       "      <td>4970</td>\n",
       "    </tr>\n",
       "    <tr>\n",
       "      <th>4</th>\n",
       "      <td>3224</td>\n",
       "    </tr>\n",
       "    <tr>\n",
       "      <th>5</th>\n",
       "      <td>1141</td>\n",
       "    </tr>\n",
       "    <tr>\n",
       "      <th>6</th>\n",
       "      <td>1356</td>\n",
       "    </tr>\n",
       "    <tr>\n",
       "      <th>7</th>\n",
       "      <td>645</td>\n",
       "    </tr>\n",
       "    <tr>\n",
       "      <th>8</th>\n",
       "      <td>479</td>\n",
       "    </tr>\n",
       "    <tr>\n",
       "      <th>9</th>\n",
       "      <td>554</td>\n",
       "    </tr>\n",
       "    <tr>\n",
       "      <th>10</th>\n",
       "      <td>4716</td>\n",
       "    </tr>\n",
       "    <tr>\n",
       "      <th>11</th>\n",
       "      <td>1550</td>\n",
       "    </tr>\n",
       "    <tr>\n",
       "      <th>12</th>\n",
       "      <td>239</td>\n",
       "    </tr>\n",
       "  </tbody>\n",
       "</table>\n",
       "</div>"
      ],
      "text/plain": [
       "             id\n",
       "dateAdded      \n",
       "1           308\n",
       "2           257\n",
       "3          4970\n",
       "4          3224\n",
       "5          1141\n",
       "6          1356\n",
       "7           645\n",
       "8           479\n",
       "9           554\n",
       "10         4716\n",
       "11         1550\n",
       "12          239"
      ]
     },
     "execution_count": 69,
     "metadata": {},
     "output_type": "execute_result"
    }
   ],
   "source": [
    "result = us_fastfoods.groupby(us_fastfoods[\"dateAdded\"].dt.month)[[\"id\"]].nunique()\n",
    "result"
   ]
  },
  {
   "cell_type": "code",
   "execution_count": 74,
   "id": "88857fc9-bde7-4222-860a-afb08d7f8849",
   "metadata": {},
   "outputs": [],
   "source": [
    "us_fastfoods[\"dateUpdated\"] = pd.to_datetime(us_fastfoods[\"dateUpdated\"])"
   ]
  },
  {
   "cell_type": "code",
   "execution_count": 75,
   "id": "b258a567-9cca-4e97-b0ee-eb148a7f966c",
   "metadata": {},
   "outputs": [
    {
     "data": {
      "text/plain": [
       "id                                object\n",
       "address                           object\n",
       "categories                        object\n",
       "city                              object\n",
       "cuisines                          object\n",
       "dateAdded            datetime64[ns, UTC]\n",
       "dateUpdated          datetime64[ns, UTC]\n",
       "latitude                         float64\n",
       "longitude                        float64\n",
       "menus.category                    object\n",
       "menus.currency                    object\n",
       "menus.dateSeen                    object\n",
       "menus.description                 object\n",
       "menus.name                        object\n",
       "name                              object\n",
       "province                          object\n",
       "dtype: object"
      ]
     },
     "execution_count": 75,
     "metadata": {},
     "output_type": "execute_result"
    }
   ],
   "source": [
    "us_fastfoods.dtypes"
   ]
  },
  {
   "cell_type": "markdown",
   "id": "8c745019-2b72-4f0c-b958-b34122566cf6",
   "metadata": {},
   "source": [
    "## 16.\n",
    "\n",
    "В этом задании нужно добавить столбец `update_delta` с количеством целых дней, полученных от разницы между `dateUpdated` и `dateAdded`.\n",
    "\n",
    "Потом для каждого города найдите (в указанном порядке):\n",
    "\n",
    "- среднее по переменной `update_delta`\n",
    "\n",
    "- широту самой северной закусочной (чем севернее расположена закусочная, тем больше будет значение широты)\n",
    "\n",
    " Названия городов не должны быть индексами. Сохраните результирующий **датафрейм** в переменную `result`.  Также сохраните в переменную `zep_mean` среднее значение `update_delta` по городу `Zephyrhills`."
   ]
  },
  {
   "cell_type": "code",
   "execution_count": 83,
   "id": "4293b160-dbfd-4ff0-b54b-e10ed8f7d59d",
   "metadata": {},
   "outputs": [],
   "source": [
    "us_fastfoods[\"update_delta\"] = (us_fastfoods[\"dateUpdated\"] - us_fastfoods[\"dateAdded\"]).dt.days"
   ]
  },
  {
   "cell_type": "code",
   "execution_count": 84,
   "id": "529c86ab-e7d7-410e-b5a2-b1d60655af50",
   "metadata": {},
   "outputs": [
    {
     "data": {
      "text/html": [
       "<div>\n",
       "<style scoped>\n",
       "    .dataframe tbody tr th:only-of-type {\n",
       "        vertical-align: middle;\n",
       "    }\n",
       "\n",
       "    .dataframe tbody tr th {\n",
       "        vertical-align: top;\n",
       "    }\n",
       "\n",
       "    .dataframe thead th {\n",
       "        text-align: right;\n",
       "    }\n",
       "</style>\n",
       "<table border=\"1\" class=\"dataframe\">\n",
       "  <thead>\n",
       "    <tr style=\"text-align: right;\">\n",
       "      <th></th>\n",
       "      <th>id</th>\n",
       "      <th>address</th>\n",
       "      <th>categories</th>\n",
       "      <th>city</th>\n",
       "      <th>cuisines</th>\n",
       "      <th>dateAdded</th>\n",
       "      <th>dateUpdated</th>\n",
       "      <th>latitude</th>\n",
       "      <th>longitude</th>\n",
       "      <th>menus.category</th>\n",
       "      <th>menus.currency</th>\n",
       "      <th>menus.dateSeen</th>\n",
       "      <th>menus.description</th>\n",
       "      <th>menus.name</th>\n",
       "      <th>name</th>\n",
       "      <th>province</th>\n",
       "      <th>update_delta</th>\n",
       "    </tr>\n",
       "  </thead>\n",
       "  <tbody>\n",
       "    <tr>\n",
       "      <th>0</th>\n",
       "      <td>AVwc__cikufWRAb51QjV</td>\n",
       "      <td>610 Commercial St</td>\n",
       "      <td>Restaurant Delivery Service,Restaurants,Pizza,...</td>\n",
       "      <td>Atchison</td>\n",
       "      <td>Restaurant Delivery Service</td>\n",
       "      <td>2016-03-02 11:49:34+00:00</td>\n",
       "      <td>2017-02-01 18:04:44+00:00</td>\n",
       "      <td>39.561570</td>\n",
       "      <td>-95.121020</td>\n",
       "      <td>NaN</td>\n",
       "      <td>NaN</td>\n",
       "      <td>2017-02-01T18:04:44Z</td>\n",
       "      <td>NaN</td>\n",
       "      <td>Taco</td>\n",
       "      <td>Gambino's Pizza</td>\n",
       "      <td>KS</td>\n",
       "      <td>336</td>\n",
       "    </tr>\n",
       "    <tr>\n",
       "      <th>1</th>\n",
       "      <td>AVwc__cikufWRAb51QjV</td>\n",
       "      <td>610 Commercial St</td>\n",
       "      <td>Restaurant Delivery Service,Restaurants,Pizza,...</td>\n",
       "      <td>Atchison</td>\n",
       "      <td>Restaurant Delivery Service</td>\n",
       "      <td>2016-03-02 11:49:34+00:00</td>\n",
       "      <td>2017-02-01 18:04:44+00:00</td>\n",
       "      <td>39.561570</td>\n",
       "      <td>-95.121020</td>\n",
       "      <td>NaN</td>\n",
       "      <td>NaN</td>\n",
       "      <td>2016-03-02T11:49:34Z</td>\n",
       "      <td>Beef, onion, cheddar cheese, lettuce,  refried...</td>\n",
       "      <td>Taco</td>\n",
       "      <td>Gambino's Pizza</td>\n",
       "      <td>KS</td>\n",
       "      <td>336</td>\n",
       "    </tr>\n",
       "    <tr>\n",
       "      <th>2</th>\n",
       "      <td>AVwc__dF_7pvs4fz1Ncy</td>\n",
       "      <td>9521 Morton Davis Dr</td>\n",
       "      <td>Golf Course, American Restaurant, and Resort</td>\n",
       "      <td>Patterson</td>\n",
       "      <td>NaN</td>\n",
       "      <td>2016-10-14 01:58:25+00:00</td>\n",
       "      <td>2016-10-14 01:58:25+00:00</td>\n",
       "      <td>37.401855</td>\n",
       "      <td>-121.266703</td>\n",
       "      <td>NaN</td>\n",
       "      <td>NaN</td>\n",
       "      <td>2016-10-14T01:58:25Z</td>\n",
       "      <td>Beef barbacoa or chicken, spanish rice, pico d...</td>\n",
       "      <td>Smotherd Burrito</td>\n",
       "      <td>Diablo Grande Golf &amp; Country Club</td>\n",
       "      <td>Grayson</td>\n",
       "      <td>0</td>\n",
       "    </tr>\n",
       "    <tr>\n",
       "      <th>3</th>\n",
       "      <td>AVwc__kCByjofQCxkdm-</td>\n",
       "      <td>10550 W I 25 Frontage Rd</td>\n",
       "      <td>Fast Food Restaurant</td>\n",
       "      <td>Longmont</td>\n",
       "      <td>NaN</td>\n",
       "      <td>2016-09-09 17:30:34+00:00</td>\n",
       "      <td>2016-10-04 05:15:17+00:00</td>\n",
       "      <td>NaN</td>\n",
       "      <td>NaN</td>\n",
       "      <td>NaN</td>\n",
       "      <td>NaN</td>\n",
       "      <td>2016-09-09T17:30:34Z</td>\n",
       "      <td>NaN</td>\n",
       "      <td>Sausage Burrito</td>\n",
       "      <td>Mcdonald's</td>\n",
       "      <td>Niwot</td>\n",
       "      <td>24</td>\n",
       "    </tr>\n",
       "    <tr>\n",
       "      <th>4</th>\n",
       "      <td>AVwc__WtByjofQCxkdkR</td>\n",
       "      <td>8495 W 3rd St</td>\n",
       "      <td>Mexican Restaurant Mid-City West,Mexican Resta...</td>\n",
       "      <td>Los Angeles</td>\n",
       "      <td>Mexican</td>\n",
       "      <td>2016-05-19 11:50:25+00:00</td>\n",
       "      <td>2016-09-11 00:06:37+00:00</td>\n",
       "      <td>34.080724</td>\n",
       "      <td>-118.389578</td>\n",
       "      <td>NaN</td>\n",
       "      <td>NaN</td>\n",
       "      <td>2016-05-19T11:50:25Z</td>\n",
       "      <td>Wahoo, avocado, cabbage, pico de gallo  and av...</td>\n",
       "      <td>Wahoo Tacogrilled</td>\n",
       "      <td>Baja Fresh Mexican Grill</td>\n",
       "      <td>Bicentennial</td>\n",
       "      <td>114</td>\n",
       "    </tr>\n",
       "  </tbody>\n",
       "</table>\n",
       "</div>"
      ],
      "text/plain": [
       "                     id                   address  \\\n",
       "0  AVwc__cikufWRAb51QjV         610 Commercial St   \n",
       "1  AVwc__cikufWRAb51QjV         610 Commercial St   \n",
       "2  AVwc__dF_7pvs4fz1Ncy      9521 Morton Davis Dr   \n",
       "3  AVwc__kCByjofQCxkdm-  10550 W I 25 Frontage Rd   \n",
       "4  AVwc__WtByjofQCxkdkR             8495 W 3rd St   \n",
       "\n",
       "                                          categories         city  \\\n",
       "0  Restaurant Delivery Service,Restaurants,Pizza,...     Atchison   \n",
       "1  Restaurant Delivery Service,Restaurants,Pizza,...     Atchison   \n",
       "2       Golf Course, American Restaurant, and Resort    Patterson   \n",
       "3                               Fast Food Restaurant     Longmont   \n",
       "4  Mexican Restaurant Mid-City West,Mexican Resta...  Los Angeles   \n",
       "\n",
       "                      cuisines                 dateAdded  \\\n",
       "0  Restaurant Delivery Service 2016-03-02 11:49:34+00:00   \n",
       "1  Restaurant Delivery Service 2016-03-02 11:49:34+00:00   \n",
       "2                          NaN 2016-10-14 01:58:25+00:00   \n",
       "3                          NaN 2016-09-09 17:30:34+00:00   \n",
       "4                      Mexican 2016-05-19 11:50:25+00:00   \n",
       "\n",
       "                dateUpdated   latitude   longitude menus.category  \\\n",
       "0 2017-02-01 18:04:44+00:00  39.561570  -95.121020            NaN   \n",
       "1 2017-02-01 18:04:44+00:00  39.561570  -95.121020            NaN   \n",
       "2 2016-10-14 01:58:25+00:00  37.401855 -121.266703            NaN   \n",
       "3 2016-10-04 05:15:17+00:00        NaN         NaN            NaN   \n",
       "4 2016-09-11 00:06:37+00:00  34.080724 -118.389578            NaN   \n",
       "\n",
       "  menus.currency        menus.dateSeen  \\\n",
       "0            NaN  2017-02-01T18:04:44Z   \n",
       "1            NaN  2016-03-02T11:49:34Z   \n",
       "2            NaN  2016-10-14T01:58:25Z   \n",
       "3            NaN  2016-09-09T17:30:34Z   \n",
       "4            NaN  2016-05-19T11:50:25Z   \n",
       "\n",
       "                                   menus.description         menus.name  \\\n",
       "0                                                NaN               Taco   \n",
       "1  Beef, onion, cheddar cheese, lettuce,  refried...               Taco   \n",
       "2  Beef barbacoa or chicken, spanish rice, pico d...   Smotherd Burrito   \n",
       "3                                                NaN    Sausage Burrito   \n",
       "4  Wahoo, avocado, cabbage, pico de gallo  and av...  Wahoo Tacogrilled   \n",
       "\n",
       "                                name      province  update_delta  \n",
       "0                    Gambino's Pizza            KS           336  \n",
       "1                    Gambino's Pizza            KS           336  \n",
       "2  Diablo Grande Golf & Country Club       Grayson             0  \n",
       "3                         Mcdonald's         Niwot            24  \n",
       "4           Baja Fresh Mexican Grill  Bicentennial           114  "
      ]
     },
     "execution_count": 84,
     "metadata": {},
     "output_type": "execute_result"
    }
   ],
   "source": [
    "us_fastfoods.head()"
   ]
  },
  {
   "cell_type": "code",
   "execution_count": 88,
   "id": "875cffe6-b125-47d6-bdb0-c21dc7f686e1",
   "metadata": {},
   "outputs": [
    {
     "data": {
      "text/html": [
       "<div>\n",
       "<style scoped>\n",
       "    .dataframe tbody tr th:only-of-type {\n",
       "        vertical-align: middle;\n",
       "    }\n",
       "\n",
       "    .dataframe tbody tr th {\n",
       "        vertical-align: top;\n",
       "    }\n",
       "\n",
       "    .dataframe thead th {\n",
       "        text-align: right;\n",
       "    }\n",
       "</style>\n",
       "<table border=\"1\" class=\"dataframe\">\n",
       "  <thead>\n",
       "    <tr style=\"text-align: right;\">\n",
       "      <th></th>\n",
       "      <th>city</th>\n",
       "      <th>update_delta</th>\n",
       "      <th>latitude</th>\n",
       "    </tr>\n",
       "  </thead>\n",
       "  <tbody>\n",
       "    <tr>\n",
       "      <th>0</th>\n",
       "      <td>Abbeville</td>\n",
       "      <td>114.857143</td>\n",
       "      <td>29.982108</td>\n",
       "    </tr>\n",
       "    <tr>\n",
       "      <th>1</th>\n",
       "      <td>Aberdeen</td>\n",
       "      <td>81.625000</td>\n",
       "      <td>46.975110</td>\n",
       "    </tr>\n",
       "    <tr>\n",
       "      <th>2</th>\n",
       "      <td>Abilene</td>\n",
       "      <td>206.454545</td>\n",
       "      <td>32.453090</td>\n",
       "    </tr>\n",
       "    <tr>\n",
       "      <th>3</th>\n",
       "      <td>Abingdon</td>\n",
       "      <td>303.500000</td>\n",
       "      <td>36.712800</td>\n",
       "    </tr>\n",
       "    <tr>\n",
       "      <th>4</th>\n",
       "      <td>Abington</td>\n",
       "      <td>393.000000</td>\n",
       "      <td>40.124851</td>\n",
       "    </tr>\n",
       "    <tr>\n",
       "      <th>...</th>\n",
       "      <td>...</td>\n",
       "      <td>...</td>\n",
       "      <td>...</td>\n",
       "    </tr>\n",
       "    <tr>\n",
       "      <th>3596</th>\n",
       "      <td>Zebulon</td>\n",
       "      <td>0.000000</td>\n",
       "      <td>33.102090</td>\n",
       "    </tr>\n",
       "    <tr>\n",
       "      <th>3597</th>\n",
       "      <td>Zephyr Cove</td>\n",
       "      <td>105.500000</td>\n",
       "      <td>38.984947</td>\n",
       "    </tr>\n",
       "    <tr>\n",
       "      <th>3598</th>\n",
       "      <td>Zephyrhills</td>\n",
       "      <td>329.695652</td>\n",
       "      <td>28.271183</td>\n",
       "    </tr>\n",
       "    <tr>\n",
       "      <th>3599</th>\n",
       "      <td>Zieglerville</td>\n",
       "      <td>621.000000</td>\n",
       "      <td>40.291611</td>\n",
       "    </tr>\n",
       "    <tr>\n",
       "      <th>3600</th>\n",
       "      <td>Zionsville</td>\n",
       "      <td>151.500000</td>\n",
       "      <td>39.954970</td>\n",
       "    </tr>\n",
       "  </tbody>\n",
       "</table>\n",
       "<p>3601 rows × 3 columns</p>\n",
       "</div>"
      ],
      "text/plain": [
       "              city  update_delta   latitude\n",
       "0        Abbeville    114.857143  29.982108\n",
       "1         Aberdeen     81.625000  46.975110\n",
       "2          Abilene    206.454545  32.453090\n",
       "3         Abingdon    303.500000  36.712800\n",
       "4         Abington    393.000000  40.124851\n",
       "...            ...           ...        ...\n",
       "3596       Zebulon      0.000000  33.102090\n",
       "3597   Zephyr Cove    105.500000  38.984947\n",
       "3598   Zephyrhills    329.695652  28.271183\n",
       "3599  Zieglerville    621.000000  40.291611\n",
       "3600    Zionsville    151.500000  39.954970\n",
       "\n",
       "[3601 rows x 3 columns]"
      ]
     },
     "execution_count": 88,
     "metadata": {},
     "output_type": "execute_result"
    }
   ],
   "source": [
    "result = us_fastfoods.groupby(\"city\")[[\"update_delta\", \"latitude\"]].agg({\"update_delta\": \"mean\", \"latitude\": \"max\"}).reset_index()\n",
    "result"
   ]
  },
  {
   "cell_type": "code",
   "execution_count": 96,
   "id": "fade9fa6-5952-4151-9f8c-3d1054518907",
   "metadata": {},
   "outputs": [
    {
     "data": {
      "text/plain": [
       "329.69565217391306"
      ]
     },
     "execution_count": 96,
     "metadata": {},
     "output_type": "execute_result"
    }
   ],
   "source": [
    "zep_mean = us_fastfoods[us_fastfoods[\"city\"] == \"Zephyrhills\"][\"update_delta\"].mean()\n",
    "zep_mean"
   ]
  },
  {
   "cell_type": "markdown",
   "id": "9a73b4ec-2fa9-4d35-a477-932e5243322f",
   "metadata": {},
   "source": [
    "## 17.\n",
    "\n",
    "Отберите рестораны, у которых в колонке `categories` упоминается `Pizza`"
   ]
  },
  {
   "cell_type": "code",
   "execution_count": 101,
   "id": "a1298e56-bfe8-4313-a1d7-6b1207f77d0d",
   "metadata": {},
   "outputs": [
    {
     "data": {
      "text/plain": [
       "id                                                AVwc_59U_7pvs4fz1Md3\n",
       "address                                               3250 Kennedy Cir\n",
       "categories           Pizza,Take Out Restaurants,Caterers,Restaurant...\n",
       "city                                                           Dubuque\n",
       "cuisines                                                         Pizza\n",
       "dateAdded                                    2016-03-29 04:45:06+00:00\n",
       "dateUpdated                                  2016-05-05 12:40:51+00:00\n",
       "latitude                                                     42.505264\n",
       "longitude                                                    -90.72141\n",
       "menus.category                                                     NaN\n",
       "menus.currency                                                     NaN\n",
       "menus.dateSeen               2016-05-05T12:40:51Z,2016-03-29T04:45:06Z\n",
       "menus.description                                                  NaN\n",
       "menus.name                                                Taco Supreme\n",
       "name                                               Falbo Bros Pizzeria\n",
       "province                                                            IA\n",
       "update_delta                                                        37\n",
       "Name: 66, dtype: object"
      ]
     },
     "execution_count": 101,
     "metadata": {},
     "output_type": "execute_result"
    }
   ],
   "source": [
    "us_fastfoods[us_fastfoods[\"categories\"].str.contains(\"Pizza\")].iloc[2]"
   ]
  },
  {
   "cell_type": "markdown",
   "id": "50cb2bad-b66f-4b4f-a8e9-d3d02f1530ff",
   "metadata": {},
   "source": [
    "## 18.\n",
    "\n",
    "В этом задании снова нужно добавить столбец `update_delta`, куда будет записана разница в днях между `dateUpdated` и `dateAdded`.  Посчитайте среднее и медиану получившейся колонки.\n",
    "\n",
    "Перечислите значения через пробел (сначала среднее, затем медиану), округлив до 2 знаков. "
   ]
  },
  {
   "cell_type": "code",
   "execution_count": 104,
   "id": "8275d5ac-af31-49f9-be18-adc333a173cf",
   "metadata": {},
   "outputs": [
    {
     "name": "stdout",
     "output_type": "stream",
     "text": [
      "326.22 364.0\n"
     ]
    }
   ],
   "source": [
    "print(round(us_fastfoods[\"update_delta\"].mean(), 2), round(us_fastfoods[\"update_delta\"].median(),2))"
   ]
  },
  {
   "cell_type": "code",
   "execution_count": 134,
   "id": "52db70fb-c0f0-409f-82e6-cd89a33c18e9",
   "metadata": {},
   "outputs": [],
   "source": [
    "cat_20 = us_fastfoods[us_fastfoods[\"categories\"].str.split(\",\").apply(len) > 20]"
   ]
  },
  {
   "cell_type": "markdown",
   "id": "5d61d5cb-8016-4646-9025-f36724039bf1",
   "metadata": {},
   "source": [
    "## 19.\n",
    "\n",
    "В этом задании нужно отобрать записи, у которых более 20 категорий, далее их нужно сгруппировать по провинциям и подсчитать минимальную `longitude` в каждой. Округлите значения `longitude` до 3-х знаков после запятой.\n",
    "\n",
    "Далее сохраните результирующий датафрейм в файл в формате csv с сепаратором `;`|. Сам датафрейм должен содержать две колонки: `province` и `longitude`"
   ]
  },
  {
   "cell_type": "code",
   "execution_count": 135,
   "id": "43d1cf9d-508d-4d50-b4a0-f1ae4166848e",
   "metadata": {},
   "outputs": [
    {
     "data": {
      "text/html": [
       "<div>\n",
       "<style scoped>\n",
       "    .dataframe tbody tr th:only-of-type {\n",
       "        vertical-align: middle;\n",
       "    }\n",
       "\n",
       "    .dataframe tbody tr th {\n",
       "        vertical-align: top;\n",
       "    }\n",
       "\n",
       "    .dataframe thead th {\n",
       "        text-align: right;\n",
       "    }\n",
       "</style>\n",
       "<table border=\"1\" class=\"dataframe\">\n",
       "  <thead>\n",
       "    <tr style=\"text-align: right;\">\n",
       "      <th></th>\n",
       "      <th>province</th>\n",
       "      <th>longitude</th>\n",
       "    </tr>\n",
       "  </thead>\n",
       "  <tbody>\n",
       "    <tr>\n",
       "      <th>0</th>\n",
       "      <td>AZ</td>\n",
       "      <td>-110.136</td>\n",
       "    </tr>\n",
       "    <tr>\n",
       "      <th>1</th>\n",
       "      <td>CA</td>\n",
       "      <td>-122.417</td>\n",
       "    </tr>\n",
       "    <tr>\n",
       "      <th>2</th>\n",
       "      <td>DC</td>\n",
       "      <td>-77.075</td>\n",
       "    </tr>\n",
       "    <tr>\n",
       "      <th>3</th>\n",
       "      <td>G P O</td>\n",
       "      <td>-73.990</td>\n",
       "    </tr>\n",
       "    <tr>\n",
       "      <th>4</th>\n",
       "      <td>KY</td>\n",
       "      <td>-87.455</td>\n",
       "    </tr>\n",
       "    <tr>\n",
       "      <th>5</th>\n",
       "      <td>MA</td>\n",
       "      <td>-71.055</td>\n",
       "    </tr>\n",
       "    <tr>\n",
       "      <th>6</th>\n",
       "      <td>MD</td>\n",
       "      <td>-77.453</td>\n",
       "    </tr>\n",
       "    <tr>\n",
       "      <th>7</th>\n",
       "      <td>NY</td>\n",
       "      <td>-76.794</td>\n",
       "    </tr>\n",
       "    <tr>\n",
       "      <th>8</th>\n",
       "      <td>St Simons Is</td>\n",
       "      <td>-81.394</td>\n",
       "    </tr>\n",
       "    <tr>\n",
       "      <th>9</th>\n",
       "      <td>TX</td>\n",
       "      <td>-94.939</td>\n",
       "    </tr>\n",
       "    <tr>\n",
       "      <th>10</th>\n",
       "      <td>VA</td>\n",
       "      <td>-77.093</td>\n",
       "    </tr>\n",
       "    <tr>\n",
       "      <th>11</th>\n",
       "      <td>WA</td>\n",
       "      <td>-122.383</td>\n",
       "    </tr>\n",
       "    <tr>\n",
       "      <th>12</th>\n",
       "      <td>WI</td>\n",
       "      <td>-89.377</td>\n",
       "    </tr>\n",
       "  </tbody>\n",
       "</table>\n",
       "</div>"
      ],
      "text/plain": [
       "        province  longitude\n",
       "0             AZ   -110.136\n",
       "1             CA   -122.417\n",
       "2             DC    -77.075\n",
       "3          G P O    -73.990\n",
       "4             KY    -87.455\n",
       "5             MA    -71.055\n",
       "6             MD    -77.453\n",
       "7             NY    -76.794\n",
       "8   St Simons Is    -81.394\n",
       "9             TX    -94.939\n",
       "10            VA    -77.093\n",
       "11            WA   -122.383\n",
       "12            WI    -89.377"
      ]
     },
     "execution_count": 135,
     "metadata": {},
     "output_type": "execute_result"
    }
   ],
   "source": [
    "grouping_cat_20 = cat_20.groupby(\"province\")[[\"longitude\"]].min().round(3).reset_index()\n",
    "grouping_cat_20"
   ]
  },
  {
   "cell_type": "code",
   "execution_count": 137,
   "id": "58935ab4-daaf-42be-bff7-b4aafcf60b71",
   "metadata": {},
   "outputs": [],
   "source": [
    "grouping_cat_20.to_csv(\"new_cat_20\", sep=\";\", index=False)"
   ]
  },
  {
   "cell_type": "code",
   "execution_count": null,
   "id": "2037fe00-1479-46d8-94d1-cd9f765d6528",
   "metadata": {},
   "outputs": [],
   "source": []
  }
 ],
 "metadata": {
  "kernelspec": {
   "display_name": "Python 3 (ipykernel)",
   "language": "python",
   "name": "python3"
  },
  "language_info": {
   "codemirror_mode": {
    "name": "ipython",
    "version": 3
   },
   "file_extension": ".py",
   "mimetype": "text/x-python",
   "name": "python",
   "nbconvert_exporter": "python",
   "pygments_lexer": "ipython3",
   "version": "3.12.7"
  }
 },
 "nbformat": 4,
 "nbformat_minor": 5
}
