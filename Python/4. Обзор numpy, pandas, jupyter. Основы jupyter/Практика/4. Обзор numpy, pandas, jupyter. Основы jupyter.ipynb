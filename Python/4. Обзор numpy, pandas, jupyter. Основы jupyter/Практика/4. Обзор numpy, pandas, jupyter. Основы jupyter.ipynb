{
 "cells": [
  {
   "cell_type": "markdown",
   "id": "c5eb233c-928f-4529-8a71-e42586457eed",
   "metadata": {},
   "source": [
    "# > В этом уроке\n",
    "Все задания этом уроке необходимо выполнять в том порядке, в котором они идут в LMS.\n",
    "\n",
    "В четвертом уроке задания будут разбиты на 4 блока:\n",
    "\n",
    "1. **Markdown.** Сначала мы научимся работать с **Markdown**, используя `jupyter notebook`.\n",
    "\n",
    "2. **Ошибки в коде.** Здесь мы поработаем с чужим кодом, отредактируем и запустим его.\n",
    "\n",
    "3. **Numpy.** Мы сравненим время работы цикла `for` и функции из библиотеки `numpy` для вычислении скалярного произведения векторов.\n",
    "\n",
    "4. **Непонятная [*].** В заключение, мы столкнемся с зависающим кодом и применим наши знания о ядрах `jupyter` для решения проблемы."
   ]
  },
  {
   "cell_type": "markdown",
   "id": "65d05828-fce7-4c16-9c3f-555a19eb221c",
   "metadata": {
    "jp-MarkdownHeadingCollapsed": true
   },
   "source": [
    "## > Создаем ноутбук в jupyter и учимся работать с Markdown\n",
    "Установите `jupyter` у себя на компьютере. Откройте его, затем создайте ноутбук.\n",
    "\n",
    "В ноутбуке создайте несколько ячеек: с markdown-разметкой и с кодом. В markdown-ячейке воспользуйтесь синтаксисом для **полужирного** текста, _курсива_ и `monospace`.\n",
    "\n",
    "Когда будете готовы, загрузите свой ноутбук ниже."
   ]
  },
  {
   "cell_type": "markdown",
   "id": "35215d5f-88f1-47ff-bc4c-1f8405e852e6",
   "metadata": {
    "editable": true,
    "slideshow": {
     "slide_type": ""
    },
    "tags": []
   },
   "source": [
    "_Это курсив_\n",
    "\n",
    "**Это жирный**\n",
    "\n",
    "`Это monospace`"
   ]
  },
  {
   "cell_type": "code",
   "execution_count": 1,
   "id": "6c323374-96ef-4fc5-be4c-524bc1168e73",
   "metadata": {},
   "outputs": [
    {
     "name": "stdout",
     "output_type": "stream",
     "text": [
      "StartML\n"
     ]
    }
   ],
   "source": [
    "print(\"StartML\")"
   ]
  },
  {
   "cell_type": "markdown",
   "id": "4ab71b80-4aaa-4afb-a88a-05f7f045e092",
   "metadata": {
    "jp-MarkdownHeadingCollapsed": true
   },
   "source": [
    "## > Фиксим баги в коде коллеги\n",
    "Скачайте ноутбук и запустите все ячейки. Этот ноутбук приближен к тому, с чем вы столкнетесь в реальности: разбросанные эксперименты в разных частях, не очень большая документация. Не волнуйтесь, мы с вами не будем продолжать эти традиции и будем писать хорошие ноутбуки :)\n",
    "\n",
    "В самом конце вы должны увидеть распечатку переменной `credit_payments`. Результат вывода второй ячейки будет:\n",
    "\n",
    "```python\n",
    "0.03091597557067871\n",
    "1671.9166620000015\n",
    "```\n",
    "\n",
    "Ваш тех.директор сказал, что в коде ошибка - там надо убрать строку `credit_payments.append(5)`, потому что она осталась от эксперимента. Вы с радостью это делаете на глазах у шефа, и хотите перезапустить ячейку с циклом.\n",
    "\n",
    "Подумайте, какой результат ожидаете получить, а затем перезапустите ячейку с циклом `for`. Что получилось на выходе?"
   ]
  },
  {
   "cell_type": "markdown",
   "id": "7b9ebf45-1e29-4a14-b663-cb04025fb93d",
   "metadata": {
    "jp-MarkdownHeadingCollapsed": true
   },
   "source": [
    "### 1. Идемпотентность: что такое и зачем "
   ]
  },
  {
   "cell_type": "code",
   "execution_count": 2,
   "id": "cf6a89cc-ea0e-4752-a6e4-7e4980cff6ba",
   "metadata": {},
   "outputs": [],
   "source": [
    "credit_payments = []"
   ]
  },
  {
   "cell_type": "markdown",
   "id": "74e7aa34-ed9c-4ef6-a040-828b00dac877",
   "metadata": {},
   "source": [
    "Идемпотентность - это свойство операции, когда при ее повторении результат операции получается такой же.\n",
    "\n",
    "Для Jupyter Notebook это весьма полезное свойство: если вы сделаете так, что при перезапуске ячейки результат будет такой же, то разработка станет проще. Сейчас мы на практике увидим, как это происходит :)\n",
    "\n",
    "В Jupyter Notebook может быть много ячеек и часто легко забыть, когда и где были проинициализированы переменные. Если в ячейках отсутствует _идемпотентность_, то результат будет непредсказуемым."
   ]
  },
  {
   "cell_type": "code",
   "execution_count": 8,
   "id": "1be61ef3-6b77-46f6-ae21-0e1601ce2608",
   "metadata": {},
   "outputs": [
    {
     "name": "stdout",
     "output_type": "stream",
     "text": [
      "num_records    5\n",
      "value          7\n",
      "total          9\n",
      "dtype: int64\n",
      "num_records\n",
      "1    1\n",
      "4    1\n",
      "Name: count, dtype: int64\n"
     ]
    },
    {
     "data": {
      "text/html": [
       "<div>\n",
       "<style scoped>\n",
       "    .dataframe tbody tr th:only-of-type {\n",
       "        vertical-align: middle;\n",
       "    }\n",
       "\n",
       "    .dataframe tbody tr th {\n",
       "        vertical-align: top;\n",
       "    }\n",
       "\n",
       "    .dataframe thead th {\n",
       "        text-align: right;\n",
       "    }\n",
       "</style>\n",
       "<table border=\"1\" class=\"dataframe\">\n",
       "  <thead>\n",
       "    <tr style=\"text-align: right;\">\n",
       "      <th></th>\n",
       "      <th>num_records</th>\n",
       "      <th>value</th>\n",
       "      <th>total</th>\n",
       "    </tr>\n",
       "  </thead>\n",
       "  <tbody>\n",
       "    <tr>\n",
       "      <th>0</th>\n",
       "      <td>1</td>\n",
       "      <td>2</td>\n",
       "      <td>3</td>\n",
       "    </tr>\n",
       "    <tr>\n",
       "      <th>1</th>\n",
       "      <td>4</td>\n",
       "      <td>5</td>\n",
       "      <td>6</td>\n",
       "    </tr>\n",
       "  </tbody>\n",
       "</table>\n",
       "</div>"
      ],
      "text/plain": [
       "   num_records  value  total\n",
       "0            1      2      3\n",
       "1            4      5      6"
      ]
     },
     "execution_count": 8,
     "metadata": {},
     "output_type": "execute_result"
    }
   ],
   "source": [
    "# OLD experiment. todo: remove it\n",
    "import pandas as pd\n",
    "\n",
    "\n",
    "df = pd.DataFrame(\n",
    "    [[1, 2, 3],\n",
    "    [4, 5, 6]],\n",
    "    columns=['num_records', 'value', 'total']\n",
    ")\n",
    "print(df.sum())\n",
    "\n",
    "print(df['num_records'].value_counts())\n",
    "\n",
    "df.head()"
   ]
  },
  {
   "cell_type": "code",
   "execution_count": 9,
   "id": "448a7e14-ab1f-496b-8d02-4e7a34fe346e",
   "metadata": {},
   "outputs": [
    {
     "name": "stdout",
     "output_type": "stream",
     "text": [
      "0.07600617408752441\n",
      "5000.749986\n"
     ]
    }
   ],
   "source": [
    "import time\n",
    "\n",
    "\n",
    "start = time.time()\n",
    "# credit_payments.append(5)\n",
    "for i in range(int(1e5)):\n",
    "    credit_payments.append((i % 7 + i // 3) / 1e6)\n",
    "\n",
    "end = time.time()\n",
    "print(end - start)\n",
    "print(sum(credit_payments))"
   ]
  },
  {
   "cell_type": "markdown",
   "id": "7faebdb0-a944-4a19-b026-a6c9cc6a3ade",
   "metadata": {},
   "source": [
    "### > Пишем воспроизводимый код\n",
    "Что можно сделать, чтобы после перезапуска последней ячейки всегда получился одинаковый результат?\n",
    "\n",
    "**Ответ: Перенести credit_payments = [] в ячейку с циклом for**"
   ]
  },
  {
   "cell_type": "markdown",
   "id": "0e914a33-3c7c-4aba-8a17-9ff4dcfc9d19",
   "metadata": {},
   "source": [
    "## > Строим графики\n",
    "Откройте ноутбук по ссылке. Посмотрите на графики, потом попробуйте их воссоздать. Как добиться того, чтобы при **\"Restart Kernel and run all\"** получались схожие графики? \n",
    "\n",
    "NB! На данном этапе не требуется подробно вникать в код ноутбука, данные темы будут рассмотрены позже. Сейчас вам достаточно понять идею и запустить готовый код. \n",
    "\n",
    "**Ответ: Вернуть импорт matplotlib.pyplot в первую ячейку, где уже используется отрисовка графиков**"
   ]
  },
  {
   "cell_type": "markdown",
   "id": "4db493d3-d948-4e8b-9b6e-dc1b4741959a",
   "metadata": {},
   "source": [
    "## > Применяем магические команды jupyter\n",
    "Реализуйте скалярное произведение двух векторов размера `1e5` через цикл `for` в ноутбуке и замерьте скорость выполнения кода с использованием магической команды `%%timeit`. Используйте для быстрой генерации вектора такой трюк: `vec1 = list(range(int(1e5)))`.\n",
    "\n",
    "Рекомендуем скалярное произведение обернуть в функцию.\n",
    "\n",
    "Сколько секунд отрабатывала ваша функция?\n",
    "\n",
    "**NB!** Убедитесь, что замеряете только время выполнения скалярного произведения и ничего больше.\n",
    "\n",
    "При выполнении этого задания на локальном устройстве могут возникать ситуации, когда ответ отличается от предложенных вариантов. Поэтому нужно выбирать тот вариант, который ближе всего к вашему, либо запускать код на нашем сервере в JupyterHub."
   ]
  },
  {
   "cell_type": "code",
   "execution_count": 26,
   "id": "ee319708-410e-4e28-850b-41ed8e5c5e4c",
   "metadata": {},
   "outputs": [],
   "source": [
    "def scalar(vec1, vec2):\n",
    "    res = 0\n",
    "    for i in range(len(vec1)):\n",
    "        res+= vec1[i]*vec2[i]\n",
    "    return res"
   ]
  },
  {
   "cell_type": "code",
   "execution_count": 27,
   "id": "d7f4778d-6bd8-4576-bfd4-0cd8f3c33a3e",
   "metadata": {},
   "outputs": [],
   "source": [
    "vec1 = list(range(int(1e5)))\n",
    "vec2 = list(range(int(1e5)))"
   ]
  },
  {
   "cell_type": "code",
   "execution_count": 28,
   "id": "dc5a9b81-3efc-46f3-923e-a0e2583ea966",
   "metadata": {},
   "outputs": [
    {
     "name": "stdout",
     "output_type": "stream",
     "text": [
      "8.43 ms ± 203 μs per loop (mean ± std. dev. of 7 runs, 100 loops each)\n"
     ]
    }
   ],
   "source": [
    "%%timeit\n",
    "vec3 = scalar(vec1, vec2)"
   ]
  },
  {
   "cell_type": "markdown",
   "id": "919f9fef-6ca1-41bf-bdfa-6c161ad928c9",
   "metadata": {},
   "source": [
    "**Ответ: от 5 до 20 ms**"
   ]
  },
  {
   "cell_type": "markdown",
   "id": "3e65595e-2ad4-4568-9654-c4b90466f243",
   "metadata": {},
   "source": [
    "## > Результат \"магического\" умножения\n",
    "Какой порядок (т.е. число после e+...) имеет результат скалярного произведения двух векторов из предыдущего степа?\n",
    "\n",
    "Hint: для выполнения этого задания почитайте про формат `scientific notation` в питоне."
   ]
  },
  {
   "cell_type": "code",
   "execution_count": 15,
   "id": "9eb56ac6-878d-4fb7-b54f-f5485cf0773c",
   "metadata": {},
   "outputs": [
    {
     "name": "stdout",
     "output_type": "stream",
     "text": [
      "3.33e+14\n"
     ]
    }
   ],
   "source": [
    "vec3 = scalar(vec1, vec2)\n",
    "print(\"{:.2e}\".format(vec3))\n"
   ]
  },
  {
   "cell_type": "markdown",
   "id": "bbe3d341-e3c1-4f3f-a19b-71f00c2c7f43",
   "metadata": {},
   "source": [
    "## > Замеряем время работы функций в Numpy\n",
    "Теперь подключите библиотеку `numpy`, оберните списки, созданные на степе 5, в `np.array()`, затем воспользуйтесь встроенной функцией `np.dot()` для их скалярного произведения. Замерьте время выполнения кода через `%%timeit`. Какое оно стало?\n",
    "\n",
    "**NB!** Убедитесь, что замеряете только время выполнения скалярного произведения и ничего больше.\n",
    "\n",
    "При выполнении этого задания на локальном устройстве могут возникать ситуации, когда ответ отличается от предложенных вариантов. Поэтому нужно выбирать тот вариант, который ближе всего к вашему, либо запускать код на нашем сервере в JupyterHub."
   ]
  },
  {
   "cell_type": "code",
   "execution_count": 17,
   "id": "9077c930-523b-4596-b1b8-b71e001c077d",
   "metadata": {},
   "outputs": [],
   "source": [
    "import numpy as np"
   ]
  },
  {
   "cell_type": "code",
   "execution_count": 19,
   "id": "efb1923a-fa8a-43ba-a66d-a5898e53fac2",
   "metadata": {},
   "outputs": [],
   "source": [
    "vec1 = np.arange(int(1e5))\n",
    "vec2 = np.arange(int(1e5))"
   ]
  },
  {
   "cell_type": "code",
   "execution_count": 21,
   "id": "50dab345-4061-4fcc-9f0a-69248a73f1fd",
   "metadata": {},
   "outputs": [
    {
     "name": "stdout",
     "output_type": "stream",
     "text": [
      "42.2 μs ± 506 ns per loop (mean ± std. dev. of 7 runs, 10,000 loops each)\n"
     ]
    }
   ],
   "source": [
    "%%timeit\n",
    "np.dot(vec1, vec2)"
   ]
  },
  {
   "cell_type": "markdown",
   "id": "108d2512-e153-436e-aa90-53a1c09e1d5d",
   "metadata": {},
   "source": [
    "**Ответ: <100 µs**"
   ]
  },
  {
   "cell_type": "markdown",
   "id": "146761da-7e4e-450e-8c70-37e3f9d284ae",
   "metadata": {},
   "source": [
    "## > Фиксим баги в коде коллеги [2]\n",
    "Ваш коллега тоже проходит курс **StartML**. Он поделился своим ноутбуком с реализацией алгоритма Евклида и попросил проверить, как она работает.\n",
    "\n",
    "Скачайте ноутбук по ссылке. Запустите на нем алгоритм Евклида на числах 121, 11 и следующую после него ячейку (распечатка сообщения об успехе). Переходите к описанию ниже, как только запустите ячейку.\n",
    "\n",
    "Если код выполняется очень долго, вспомните, что рассказывали в лекции по поводу ядра и операций с ним **(restart, interrupt)**.\n",
    "\n",
    "В случае если вам кажется, что в коде коллеги что-то не то, попробуйте исправить это. Если имела место ошибка, в чем она заключалась?\n",
    "\n",
    "```python\n",
    "def gcd(a, b):\n",
    "    if a < b:\n",
    "        b, a = a, b\n",
    "    while b != 0:\n",
    "        a, b = a % b, b\n",
    "    print(a)\n",
    "```"
   ]
  },
  {
   "cell_type": "markdown",
   "id": "3fdd0e23-6cbe-43cd-8fc4-5c3963db6ccb",
   "metadata": {},
   "source": [
    "**Ответ: В коде была ошибка в присваивании переменных a, b внутри цикла while**"
   ]
  },
  {
   "cell_type": "code",
   "execution_count": 1,
   "id": "22c256f3-b018-43cb-8857-06c1d9d7606f",
   "metadata": {},
   "outputs": [],
   "source": [
    "# исправленная версия\n",
    "\n",
    "def gcd(a, b):\n",
    "    if a < b:\n",
    "        a, b = b, a\n",
    "    while b != 0:\n",
    "        a, b = b, a % b\n",
    "    print(a)"
   ]
  },
  {
   "cell_type": "code",
   "execution_count": null,
   "id": "070a9ced-fe92-495d-a0d8-1008badcefa0",
   "metadata": {},
   "outputs": [],
   "source": []
  }
 ],
 "metadata": {
  "kernelspec": {
   "display_name": "Python 3 (ipykernel)",
   "language": "python",
   "name": "python3"
  },
  "language_info": {
   "codemirror_mode": {
    "name": "ipython",
    "version": 3
   },
   "file_extension": ".py",
   "mimetype": "text/x-python",
   "name": "python",
   "nbconvert_exporter": "python",
   "pygments_lexer": "ipython3",
   "version": "3.12.7"
  }
 },
 "nbformat": 4,
 "nbformat_minor": 5
}
